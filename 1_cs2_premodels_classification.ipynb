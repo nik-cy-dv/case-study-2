{
  "nbformat": 4,
  "nbformat_minor": 0,
  "metadata": {
    "colab": {
      "name": "1. cs2 premodels classification.ipynb",
      "provenance": [],
      "collapsed_sections": []
    },
    "kernelspec": {
      "name": "python3",
      "display_name": "Python 3"
    },
    "language_info": {
      "name": "python"
    },
    "accelerator": "GPU"
  },
  "cells": [
    {
      "cell_type": "code",
      "metadata": {
        "colab": {
          "base_uri": "https://localhost:8080/"
        },
        "id": "k63gnV8TD9i0",
        "outputId": "d359d893-0740-45e9-eb04-aa46b9b48510"
      },
      "source": [
        "!nvidia-smi -L"
      ],
      "execution_count": null,
      "outputs": [
        {
          "output_type": "stream",
          "name": "stdout",
          "text": [
            "GPU 0: Tesla K80 (UUID: GPU-1c3b12fd-da17-8ebf-fb47-ea235e676e98)\n"
          ]
        }
      ]
    },
    {
      "cell_type": "code",
      "metadata": {
        "colab": {
          "base_uri": "https://localhost:8080/"
        },
        "id": "sfeXo4LfiviK",
        "outputId": "58562529-336b-4978-eabe-199a734c64f5"
      },
      "source": [
        "\n",
        "from google.colab import drive\n",
        "drive.mount('/content/gdrive')"
      ],
      "execution_count": null,
      "outputs": [
        {
          "output_type": "stream",
          "name": "stdout",
          "text": [
            "Mounted at /content/gdrive\n"
          ]
        }
      ]
    },
    {
      "cell_type": "code",
      "metadata": {
        "id": "jVsDa2kMkK9y"
      },
      "source": [
        "import tensorflow as tf\n",
        "from tensorflow.keras import models, layers\n",
        "#from tensorflow.keras.models import Model\n",
        "#from tensorflow.keras.layers import BatchNormalization, Activation, Flatten\n",
        "from tensorflow.keras.optimizers import *\n",
        "from tensorflow.keras.callbacks import LearningRateScheduler, ReduceLROnPlateau,ModelCheckpoint, TerminateOnNaN, EarlyStopping, TensorBoard,CSVLogger\n",
        "import datetime\n",
        "import os\n",
        "from tensorflow.keras import backend as K\n",
        "#from tensorflow.keras.models import load_model, save_model\n",
        "#from tensorflow.keras.preprocessing.image import ImageDataGenerator,img_to_array,load_img\n",
        "import keras\n",
        "from keras.preprocessing.image import ImageDataGenerator,img_to_array,load_img\n",
        "\n",
        "import pandas as pd\n",
        "import numpy as np\n",
        "import glob\n",
        "import os\n",
        "import cv2\n",
        "from IPython.display import Image\n",
        "import matplotlib.pyplot as plt\n",
        "import seaborn as sns\n",
        "from sklearn.model_selection import train_test_split\n",
        "from tensorflow.keras.layers import *\n",
        "from tensorflow.keras.models import * \n",
        "from tensorflow.keras.preprocessing import image\n",
        "from sklearn.preprocessing import *\n",
        "#import xgboost as xgb\n",
        "import warnings\n",
        "warnings.filterwarnings('ignore')\n",
        "\n",
        "from scipy import stats\n",
        "from datetime import *\n",
        "import datetime\n",
        "import pickle"
      ],
      "execution_count": null,
      "outputs": []
    },
    {
      "cell_type": "code",
      "metadata": {
        "colab": {
          "base_uri": "https://localhost:8080/",
          "height": 162
        },
        "id": "n0fyLsMukqba",
        "outputId": "6322f0ca-5b0d-4117-90e3-9d81273c75ca"
      },
      "source": [
        "train_data_f = pickle.load(open('/content/gdrive/MyDrive/cs2/data/train_data_f.pkl', 'rb'))\n",
        "train_data_f.head(3)"
      ],
      "execution_count": null,
      "outputs": [
        {
          "output_type": "execute_result",
          "data": {
            "text/html": [
              "<div>\n",
              "<style scoped>\n",
              "    .dataframe tbody tr th:only-of-type {\n",
              "        vertical-align: middle;\n",
              "    }\n",
              "\n",
              "    .dataframe tbody tr th {\n",
              "        vertical-align: top;\n",
              "    }\n",
              "\n",
              "    .dataframe thead th {\n",
              "        text-align: right;\n",
              "    }\n",
              "</style>\n",
              "<table border=\"1\" class=\"dataframe\">\n",
              "  <thead>\n",
              "    <tr style=\"text-align: right;\">\n",
              "      <th></th>\n",
              "      <th>Image_path</th>\n",
              "      <th>Insurance_company</th>\n",
              "      <th>Cost_of_vehicle</th>\n",
              "      <th>Min_coverage</th>\n",
              "      <th>Expiry_date</th>\n",
              "      <th>Max_coverage</th>\n",
              "      <th>year</th>\n",
              "      <th>month</th>\n",
              "      <th>month_day</th>\n",
              "      <th>yr_day</th>\n",
              "      <th>week_day</th>\n",
              "      <th>week_no</th>\n",
              "      <th>lux_seg</th>\n",
              "      <th>med_seg</th>\n",
              "      <th>budget_seg</th>\n",
              "      <th>age_of_insur</th>\n",
              "      <th>cmpny_count</th>\n",
              "      <th>range_of_coverage</th>\n",
              "      <th>insuran_pd</th>\n",
              "      <th>low_expire</th>\n",
              "      <th>med_expire</th>\n",
              "      <th>hig_expire</th>\n",
              "      <th>cost_grt_20k</th>\n",
              "      <th>Condition</th>\n",
              "      <th>Amount</th>\n",
              "    </tr>\n",
              "  </thead>\n",
              "  <tbody>\n",
              "    <tr>\n",
              "      <th>0</th>\n",
              "      <td>img_4513976.jpg</td>\n",
              "      <td>BQ</td>\n",
              "      <td>41500.0</td>\n",
              "      <td>1037.5</td>\n",
              "      <td>2026-12-03</td>\n",
              "      <td>36142.68</td>\n",
              "      <td>2026</td>\n",
              "      <td>12</td>\n",
              "      <td>3</td>\n",
              "      <td>337</td>\n",
              "      <td>3</td>\n",
              "      <td>49</td>\n",
              "      <td>0</td>\n",
              "      <td>1</td>\n",
              "      <td>0</td>\n",
              "      <td>5.23</td>\n",
              "      <td>131</td>\n",
              "      <td>35105.18</td>\n",
              "      <td>1</td>\n",
              "      <td>0</td>\n",
              "      <td>0</td>\n",
              "      <td>1</td>\n",
              "      <td>1</td>\n",
              "      <td>0</td>\n",
              "      <td>0.0</td>\n",
              "    </tr>\n",
              "    <tr>\n",
              "      <th>1</th>\n",
              "      <td>img_7764995.jpg</td>\n",
              "      <td>BQ</td>\n",
              "      <td>50700.0</td>\n",
              "      <td>1267.5</td>\n",
              "      <td>2025-07-10</td>\n",
              "      <td>12753.00</td>\n",
              "      <td>2025</td>\n",
              "      <td>7</td>\n",
              "      <td>10</td>\n",
              "      <td>191</td>\n",
              "      <td>3</td>\n",
              "      <td>28</td>\n",
              "      <td>1</td>\n",
              "      <td>0</td>\n",
              "      <td>0</td>\n",
              "      <td>3.83</td>\n",
              "      <td>131</td>\n",
              "      <td>11485.50</td>\n",
              "      <td>1</td>\n",
              "      <td>0</td>\n",
              "      <td>1</td>\n",
              "      <td>0</td>\n",
              "      <td>0</td>\n",
              "      <td>1</td>\n",
              "      <td>6194.0</td>\n",
              "    </tr>\n",
              "    <tr>\n",
              "      <th>2</th>\n",
              "      <td>img_451308.jpg</td>\n",
              "      <td>A</td>\n",
              "      <td>49500.0</td>\n",
              "      <td>1237.5</td>\n",
              "      <td>2022-08-11</td>\n",
              "      <td>43102.68</td>\n",
              "      <td>2022</td>\n",
              "      <td>8</td>\n",
              "      <td>11</td>\n",
              "      <td>223</td>\n",
              "      <td>3</td>\n",
              "      <td>32</td>\n",
              "      <td>1</td>\n",
              "      <td>0</td>\n",
              "      <td>0</td>\n",
              "      <td>0.91</td>\n",
              "      <td>132</td>\n",
              "      <td>41865.18</td>\n",
              "      <td>0</td>\n",
              "      <td>1</td>\n",
              "      <td>0</td>\n",
              "      <td>0</td>\n",
              "      <td>1</td>\n",
              "      <td>0</td>\n",
              "      <td>0.0</td>\n",
              "    </tr>\n",
              "  </tbody>\n",
              "</table>\n",
              "</div>"
            ],
            "text/plain": [
              "        Image_path Insurance_company  ...  Condition  Amount\n",
              "0  img_4513976.jpg                BQ  ...          0     0.0\n",
              "1  img_7764995.jpg                BQ  ...          1  6194.0\n",
              "2   img_451308.jpg                 A  ...          0     0.0\n",
              "\n",
              "[3 rows x 25 columns]"
            ]
          },
          "metadata": {},
          "execution_count": 4
        }
      ]
    },
    {
      "cell_type": "code",
      "metadata": {
        "colab": {
          "base_uri": "https://localhost:8080/"
        },
        "id": "LX4Wvwb_Hy6O",
        "outputId": "eded7b7b-9141-4fd5-b143-50b1c1a23503"
      },
      "source": [
        "x = train_data_f['Image_path']\n",
        "y = train_data_f['Condition']\n",
        "\n",
        "train,  cv = train_test_split(train_data_f, test_size = 0.35, random_state = 0)\n",
        "\n",
        "print(f\"train set shape: {train.shape}\")\n",
        "print(f\"validation set shape: {cv.shape}\")"
      ],
      "execution_count": null,
      "outputs": [
        {
          "output_type": "stream",
          "name": "stdout",
          "text": [
            "train set shape: (909, 25)\n",
            "validation set shape: (490, 25)\n"
          ]
        }
      ]
    },
    {
      "cell_type": "code",
      "metadata": {
        "colab": {
          "base_uri": "https://localhost:8080/"
        },
        "id": "XqLXkN9NT2pQ",
        "outputId": "5e393df1-1808-49e2-a268-0926c1f51559"
      },
      "source": [
        "train['Condition'].value_counts()"
      ],
      "execution_count": null,
      "outputs": [
        {
          "output_type": "execute_result",
          "data": {
            "text/plain": [
              "1    847\n",
              "0     62\n",
              "Name: Condition, dtype: int64"
            ]
          },
          "metadata": {},
          "execution_count": 6
        }
      ]
    },
    {
      "cell_type": "code",
      "metadata": {
        "colab": {
          "base_uri": "https://localhost:8080/"
        },
        "id": "djtEI2pjT2j0",
        "outputId": "ed7ee17d-70be-42e4-e056-b1acfde7538b"
      },
      "source": [
        "cv['Condition'].value_counts()"
      ],
      "execution_count": null,
      "outputs": [
        {
          "output_type": "execute_result",
          "data": {
            "text/plain": [
              "1    453\n",
              "0     37\n",
              "Name: Condition, dtype: int64"
            ]
          },
          "metadata": {},
          "execution_count": 7
        }
      ]
    },
    {
      "cell_type": "code",
      "metadata": {
        "id": "p59K5RAJlEmd",
        "colab": {
          "base_uri": "https://localhost:8080/",
          "height": 162
        },
        "outputId": "18d2b2f3-5f9e-4fb0-dd27-9c9a1ed12bea"
      },
      "source": [
        "test_data_f = pickle.load(open('/content/gdrive/MyDrive/cs2/data/test_data_f.pkl', 'rb'))\n",
        "test_data_f.head(3)"
      ],
      "execution_count": null,
      "outputs": [
        {
          "output_type": "execute_result",
          "data": {
            "text/html": [
              "<div>\n",
              "<style scoped>\n",
              "    .dataframe tbody tr th:only-of-type {\n",
              "        vertical-align: middle;\n",
              "    }\n",
              "\n",
              "    .dataframe tbody tr th {\n",
              "        vertical-align: top;\n",
              "    }\n",
              "\n",
              "    .dataframe thead th {\n",
              "        text-align: right;\n",
              "    }\n",
              "</style>\n",
              "<table border=\"1\" class=\"dataframe\">\n",
              "  <thead>\n",
              "    <tr style=\"text-align: right;\">\n",
              "      <th></th>\n",
              "      <th>Image_path</th>\n",
              "      <th>Insurance_company</th>\n",
              "      <th>Cost_of_vehicle</th>\n",
              "      <th>Min_coverage</th>\n",
              "      <th>Expiry_date</th>\n",
              "      <th>Max_coverage</th>\n",
              "      <th>year</th>\n",
              "      <th>month</th>\n",
              "      <th>month_day</th>\n",
              "      <th>yr_day</th>\n",
              "      <th>week_day</th>\n",
              "      <th>week_no</th>\n",
              "      <th>lux_seg</th>\n",
              "      <th>med_seg</th>\n",
              "      <th>budget_seg</th>\n",
              "      <th>age_of_insur</th>\n",
              "      <th>cmpny_count</th>\n",
              "      <th>range_of_coverage</th>\n",
              "      <th>insuran_pd</th>\n",
              "      <th>low_expire</th>\n",
              "      <th>med_expire</th>\n",
              "      <th>hig_expire</th>\n",
              "      <th>cost_grt_20k</th>\n",
              "    </tr>\n",
              "  </thead>\n",
              "  <tbody>\n",
              "    <tr>\n",
              "      <th>0</th>\n",
              "      <td>img_4538519.jpg</td>\n",
              "      <td>B</td>\n",
              "      <td>23600</td>\n",
              "      <td>590.0</td>\n",
              "      <td>2025-04-12</td>\n",
              "      <td>5978.0</td>\n",
              "      <td>2025</td>\n",
              "      <td>4</td>\n",
              "      <td>12</td>\n",
              "      <td>102</td>\n",
              "      <td>5</td>\n",
              "      <td>15</td>\n",
              "      <td>0</td>\n",
              "      <td>0</td>\n",
              "      <td>1</td>\n",
              "      <td>3.58</td>\n",
              "      <td>59</td>\n",
              "      <td>5388.0</td>\n",
              "      <td>0</td>\n",
              "      <td>0</td>\n",
              "      <td>1</td>\n",
              "      <td>0</td>\n",
              "      <td>0</td>\n",
              "    </tr>\n",
              "    <tr>\n",
              "      <th>1</th>\n",
              "      <td>img_7766002.jpg</td>\n",
              "      <td>C</td>\n",
              "      <td>28300</td>\n",
              "      <td>707.5</td>\n",
              "      <td>2028-08-24</td>\n",
              "      <td>7153.0</td>\n",
              "      <td>2028</td>\n",
              "      <td>8</td>\n",
              "      <td>24</td>\n",
              "      <td>237</td>\n",
              "      <td>3</td>\n",
              "      <td>34</td>\n",
              "      <td>0</td>\n",
              "      <td>0</td>\n",
              "      <td>1</td>\n",
              "      <td>6.95</td>\n",
              "      <td>60</td>\n",
              "      <td>6445.5</td>\n",
              "      <td>1</td>\n",
              "      <td>0</td>\n",
              "      <td>0</td>\n",
              "      <td>1</td>\n",
              "      <td>0</td>\n",
              "    </tr>\n",
              "    <tr>\n",
              "      <th>2</th>\n",
              "      <td>img_4637390.jpg</td>\n",
              "      <td>AC</td>\n",
              "      <td>43700</td>\n",
              "      <td>1092.5</td>\n",
              "      <td>2023-11-28</td>\n",
              "      <td>11003.0</td>\n",
              "      <td>2023</td>\n",
              "      <td>11</td>\n",
              "      <td>28</td>\n",
              "      <td>332</td>\n",
              "      <td>1</td>\n",
              "      <td>48</td>\n",
              "      <td>0</td>\n",
              "      <td>1</td>\n",
              "      <td>0</td>\n",
              "      <td>2.21</td>\n",
              "      <td>50</td>\n",
              "      <td>9910.5</td>\n",
              "      <td>0</td>\n",
              "      <td>0</td>\n",
              "      <td>1</td>\n",
              "      <td>0</td>\n",
              "      <td>0</td>\n",
              "    </tr>\n",
              "  </tbody>\n",
              "</table>\n",
              "</div>"
            ],
            "text/plain": [
              "        Image_path Insurance_company  ...  hig_expire  cost_grt_20k\n",
              "0  img_4538519.jpg                 B  ...           0             0\n",
              "1  img_7766002.jpg                 C  ...           1             0\n",
              "2  img_4637390.jpg                AC  ...           0             0\n",
              "\n",
              "[3 rows x 23 columns]"
            ]
          },
          "metadata": {},
          "execution_count": 6
        }
      ]
    },
    {
      "cell_type": "code",
      "metadata": {
        "id": "GVYLymYheHTR"
      },
      "source": [
        "train_datagen = ImageDataGenerator(rescale=1./255., \n",
        "                                   rotation_range=30,\n",
        "                                   width_shift_range=(-25,25),\n",
        "                                   height_shift_range=(-25,25),\n",
        "                                   shear_range=0.5, \n",
        "                                   zoom_range=(0.1,0.5),\n",
        "                                   horizontal_flip=True,\n",
        "                                   vertical_flip=True,\n",
        "                                   fill_mode='nearest')\n",
        "\n",
        "#cv_datagen = ImageDataGenerator(rescale = 1./255.)\n",
        "test_datagen = ImageDataGenerator(rescale = 1./255.)"
      ],
      "execution_count": null,
      "outputs": []
    },
    {
      "cell_type": "code",
      "metadata": {
        "id": "8Ly8Ka-rixWE"
      },
      "source": [
        "def to_str(data_frame):\n",
        "\n",
        "  '''takes dataframe,\n",
        "           return string of conditions'''\n",
        "           \n",
        "  data_frame = data_frame.astype({'Condition' : str})\n",
        "  return data_frame\n",
        "\n",
        "train_dat = to_str(train)\n",
        "cv_dat  = to_str(cv)"
      ],
      "execution_count": null,
      "outputs": []
    },
    {
      "cell_type": "code",
      "metadata": {
        "colab": {
          "base_uri": "https://localhost:8080/"
        },
        "id": "MS2r0pBGu6kU",
        "outputId": "0675da86-8487-4af3-815e-04ae5e3d24f0"
      },
      "source": [
        "print(train_dat.shape)\n",
        "print(cv_dat.shape)"
      ],
      "execution_count": null,
      "outputs": [
        {
          "output_type": "stream",
          "name": "stdout",
          "text": [
            "(909, 25)\n",
            "(490, 25)\n"
          ]
        }
      ]
    },
    {
      "cell_type": "code",
      "metadata": {
        "colab": {
          "base_uri": "https://localhost:8080/"
        },
        "id": "hrg8osZpeHVy",
        "outputId": "55bd5c56-eda4-4adf-9853-4707dd5cbe35"
      },
      "source": [
        "img_train_gen = train_datagen.flow_from_dataframe(\n",
        "    dataframe = train_dat,\n",
        "    directory = '/content/gdrive/MyDrive/cs2/data/trainImages/',\n",
        "    x_col = 'Image_path',\n",
        "    y_col = 'Condition',\n",
        "    target_size = (224,224),\n",
        "    batch_size = 16, #32, #64,\n",
        "    class_mode = 'binary',\n",
        "    #subset = 'training',\n",
        "    shuffle = True)\n",
        "\n",
        "img_cv_gen = train_datagen.flow_from_dataframe(\n",
        "    dataframe = cv_dat,\n",
        "    directory = '/content/gdrive/MyDrive/cs2/data/trainImages/',\n",
        "    x_col = 'Image_path',\n",
        "    y_col = 'Condition',\n",
        "    target_size = (224,224),\n",
        "    batch_size = 16, #32, #64,\n",
        "    class_mode = 'binary',\n",
        "    #subset = 'validation',\n",
        "    shuffle = True)\n",
        "\n",
        "img_test_gen = test_datagen.flow_from_dataframe(\n",
        "    dataframe = test_data_f,\n",
        "    directory = '/content/gdrive/MyDrive/cs2/data/testImages/',\n",
        "    x_col = 'Image_path',\n",
        "    y_col = None,\n",
        "    target_size = (224,224),\n",
        "    batch_size = 16, #32, #64,\n",
        "    class_mode = None,\n",
        "    shuffle = True)"
      ],
      "execution_count": null,
      "outputs": [
        {
          "output_type": "stream",
          "name": "stdout",
          "text": [
            "Found 909 validated image filenames belonging to 2 classes.\n",
            "Found 490 validated image filenames belonging to 2 classes.\n",
            "Found 600 validated image filenames.\n"
          ]
        }
      ]
    },
    {
      "cell_type": "markdown",
      "metadata": {
        "id": "McjMnKKcDPj5"
      },
      "source": [
        "#VGG19"
      ]
    },
    {
      "cell_type": "markdown",
      "metadata": {
        "id": "nuFsYAWrDgqR"
      },
      "source": [
        "##simple"
      ]
    },
    {
      "cell_type": "code",
      "metadata": {
        "colab": {
          "base_uri": "https://localhost:8080/"
        },
        "id": "-K5692P0fjjn",
        "outputId": "2498cd84-1b11-4a19-fad9-2eddb028b229"
      },
      "source": [
        "base_vgg19 = tf.keras.applications.VGG19(weights='imagenet',include_top=False, input_shape=(224,224,3))  "
      ],
      "execution_count": null,
      "outputs": [
        {
          "output_type": "stream",
          "name": "stdout",
          "text": [
            "Downloading data from https://storage.googleapis.com/tensorflow/keras-applications/vgg19/vgg19_weights_tf_dim_ordering_tf_kernels_notop.h5\n",
            "80142336/80134624 [==============================] - 1s 0us/step\n",
            "80150528/80134624 [==============================] - 1s 0us/step\n"
          ]
        }
      ]
    },
    {
      "cell_type": "code",
      "metadata": {
        "colab": {
          "base_uri": "https://localhost:8080/"
        },
        "id": "Oy3hvGbKfjmT",
        "outputId": "7d3b1967-6f64-4af6-a03f-586289307062"
      },
      "source": [
        "for layer in base_vgg19.layers[:22]:      ##for sake of checking\n",
        "  layer.trainable = False\n",
        "for i,layer in enumerate(base_vgg19.layers):\n",
        "  print(i, layer.name, layer.trainable)                     \n"
      ],
      "execution_count": null,
      "outputs": [
        {
          "output_type": "stream",
          "name": "stdout",
          "text": [
            "0 input_1 False\n",
            "1 block1_conv1 False\n",
            "2 block1_conv2 False\n",
            "3 block1_pool False\n",
            "4 block2_conv1 False\n",
            "5 block2_conv2 False\n",
            "6 block2_pool False\n",
            "7 block3_conv1 False\n",
            "8 block3_conv2 False\n",
            "9 block3_conv3 False\n",
            "10 block3_conv4 False\n",
            "11 block3_pool False\n",
            "12 block4_conv1 False\n",
            "13 block4_conv2 False\n",
            "14 block4_conv3 False\n",
            "15 block4_conv4 False\n",
            "16 block4_pool False\n",
            "17 block5_conv1 False\n",
            "18 block5_conv2 False\n",
            "19 block5_conv3 False\n",
            "20 block5_conv4 False\n",
            "21 block5_pool False\n"
          ]
        }
      ]
    },
    {
      "cell_type": "code",
      "metadata": {
        "id": "CVtN6ONQfjqR"
      },
      "source": [
        "##model \n",
        "def final_model(mod):\n",
        "  x1 = mod.output\n",
        "  flat = Flatten()(x1)\n",
        "  fc1 = Dense(216, activation='relu', kernel_initializer=tf.keras.initializers.glorot_normal(seed=0))(flat)\n",
        "  drop1 = Dropout(0.5)(fc1)\n",
        "  #fc2 = Dense(512, activation='relu', kernel_initializer=tf.keras.initializers.glorot_normal(seed=0))(drop1)\n",
        "  fc3 = Dense(128, activation='relu', kernel_initializer=tf.keras.initializers.glorot_normal(seed=0))(drop1)\n",
        "  drop2 = Dropout(0.5)(fc3)\n",
        "  fc4 = Dense(64, activation='relu', kernel_initializer=tf.keras.initializers.glorot_normal(seed=0))(drop2)\n",
        "  out = Dense(1, activation='sigmoid')(fc4)\n",
        "\n",
        "  mdl_1 = Model(inputs=[mod.input], outputs=[out])\n",
        "  mdl_1_transfer_lrng = Model(inputs=[mod.input], outputs=[fc4])\n",
        "  mdl_1.summary()\n",
        "  return mdl_1, mdl_1_transfer_lrng"
      ],
      "execution_count": null,
      "outputs": []
    },
    {
      "cell_type": "code",
      "metadata": {
        "colab": {
          "base_uri": "https://localhost:8080/"
        },
        "id": "iBejKn2kfjsq",
        "outputId": "2313e336-3398-4150-8088-3d6e51f9a389"
      },
      "source": [
        "model_1, model_1_transfer_lrng = final_model(base_vgg19)"
      ],
      "execution_count": null,
      "outputs": [
        {
          "output_type": "stream",
          "name": "stdout",
          "text": [
            "Model: \"model\"\n",
            "_________________________________________________________________\n",
            "Layer (type)                 Output Shape              Param #   \n",
            "=================================================================\n",
            "input_1 (InputLayer)         [(None, 224, 224, 3)]     0         \n",
            "_________________________________________________________________\n",
            "block1_conv1 (Conv2D)        (None, 224, 224, 64)      1792      \n",
            "_________________________________________________________________\n",
            "block1_conv2 (Conv2D)        (None, 224, 224, 64)      36928     \n",
            "_________________________________________________________________\n",
            "block1_pool (MaxPooling2D)   (None, 112, 112, 64)      0         \n",
            "_________________________________________________________________\n",
            "block2_conv1 (Conv2D)        (None, 112, 112, 128)     73856     \n",
            "_________________________________________________________________\n",
            "block2_conv2 (Conv2D)        (None, 112, 112, 128)     147584    \n",
            "_________________________________________________________________\n",
            "block2_pool (MaxPooling2D)   (None, 56, 56, 128)       0         \n",
            "_________________________________________________________________\n",
            "block3_conv1 (Conv2D)        (None, 56, 56, 256)       295168    \n",
            "_________________________________________________________________\n",
            "block3_conv2 (Conv2D)        (None, 56, 56, 256)       590080    \n",
            "_________________________________________________________________\n",
            "block3_conv3 (Conv2D)        (None, 56, 56, 256)       590080    \n",
            "_________________________________________________________________\n",
            "block3_conv4 (Conv2D)        (None, 56, 56, 256)       590080    \n",
            "_________________________________________________________________\n",
            "block3_pool (MaxPooling2D)   (None, 28, 28, 256)       0         \n",
            "_________________________________________________________________\n",
            "block4_conv1 (Conv2D)        (None, 28, 28, 512)       1180160   \n",
            "_________________________________________________________________\n",
            "block4_conv2 (Conv2D)        (None, 28, 28, 512)       2359808   \n",
            "_________________________________________________________________\n",
            "block4_conv3 (Conv2D)        (None, 28, 28, 512)       2359808   \n",
            "_________________________________________________________________\n",
            "block4_conv4 (Conv2D)        (None, 28, 28, 512)       2359808   \n",
            "_________________________________________________________________\n",
            "block4_pool (MaxPooling2D)   (None, 14, 14, 512)       0         \n",
            "_________________________________________________________________\n",
            "block5_conv1 (Conv2D)        (None, 14, 14, 512)       2359808   \n",
            "_________________________________________________________________\n",
            "block5_conv2 (Conv2D)        (None, 14, 14, 512)       2359808   \n",
            "_________________________________________________________________\n",
            "block5_conv3 (Conv2D)        (None, 14, 14, 512)       2359808   \n",
            "_________________________________________________________________\n",
            "block5_conv4 (Conv2D)        (None, 14, 14, 512)       2359808   \n",
            "_________________________________________________________________\n",
            "block5_pool (MaxPooling2D)   (None, 7, 7, 512)         0         \n",
            "_________________________________________________________________\n",
            "flatten (Flatten)            (None, 25088)             0         \n",
            "_________________________________________________________________\n",
            "dense (Dense)                (None, 216)               5419224   \n",
            "_________________________________________________________________\n",
            "dropout (Dropout)            (None, 216)               0         \n",
            "_________________________________________________________________\n",
            "dense_1 (Dense)              (None, 128)               27776     \n",
            "_________________________________________________________________\n",
            "dropout_1 (Dropout)          (None, 128)               0         \n",
            "_________________________________________________________________\n",
            "dense_2 (Dense)              (None, 64)                8256      \n",
            "_________________________________________________________________\n",
            "dense_3 (Dense)              (None, 1)                 65        \n",
            "=================================================================\n",
            "Total params: 25,479,705\n",
            "Trainable params: 5,455,321\n",
            "Non-trainable params: 20,024,384\n",
            "_________________________________________________________________\n"
          ]
        }
      ]
    },
    {
      "cell_type": "code",
      "metadata": {
        "colab": {
          "base_uri": "https://localhost:8080/"
        },
        "id": "FEk9qC8Zfjvc",
        "outputId": "acce8650-253d-404f-98b5-b404f28dea21"
      },
      "source": [
        "from tensorflow.keras.callbacks import *\n",
        "\n",
        "filepath = '/content/gdrive/MyDrive/cs2/data/model1/img_only/model1_img_only.hdf5'\n",
        "checkpoint = ModelCheckpoint(filepath=filepath, monitor='val_binary_accuracy', verbose=1,save_best_only=True, mode='auto', save_freq='epoch')\n",
        "reduce_lr = ReduceLROnPlateau(monitor='val_loss', factor=0.3, patience=2)\n",
        "\n",
        "optimizer = tf.keras.optimizers.Adam(learning_rate=0.0001, beta_1=0.9, beta_2=0.999, epsilon=1e-07)\n",
        "model_1.compile(loss='binary_crossentropy', optimizer = optimizer, metrics=[tf.keras.metrics.BinaryAccuracy()])\n",
        "\n",
        "hstry_1 = model_1.fit(img_train_gen,epochs=10, validation_data=img_cv_gen, batch_size=8, \n",
        "          callbacks=[checkpoint, reduce_lr])"
      ],
      "execution_count": null,
      "outputs": [
        {
          "output_type": "stream",
          "name": "stdout",
          "text": [
            "Epoch 1/10\n",
            "57/57 [==============================] - 330s 5s/step - loss: 0.3515 - binary_accuracy: 0.9230 - val_loss: 0.2761 - val_binary_accuracy: 0.9245\n",
            "\n",
            "Epoch 00001: val_binary_accuracy improved from -inf to 0.92449, saving model to /content/gdrive/MyDrive/cs2/data/model1/img_only/model1_img_only.hdf5\n",
            "Epoch 2/10\n",
            "57/57 [==============================] - 32s 560ms/step - loss: 0.3089 - binary_accuracy: 0.9252 - val_loss: 0.3120 - val_binary_accuracy: 0.9245\n",
            "\n",
            "Epoch 00002: val_binary_accuracy did not improve from 0.92449\n",
            "Epoch 3/10\n",
            "57/57 [==============================] - 31s 542ms/step - loss: 0.2760 - binary_accuracy: 0.9318 - val_loss: 0.2604 - val_binary_accuracy: 0.9245\n",
            "\n",
            "Epoch 00003: val_binary_accuracy did not improve from 0.92449\n",
            "Epoch 4/10\n",
            "57/57 [==============================] - 29s 503ms/step - loss: 0.2730 - binary_accuracy: 0.9307 - val_loss: 0.2695 - val_binary_accuracy: 0.9245\n",
            "\n",
            "Epoch 00004: val_binary_accuracy did not improve from 0.92449\n",
            "Epoch 5/10\n",
            "57/57 [==============================] - 29s 502ms/step - loss: 0.2831 - binary_accuracy: 0.9318 - val_loss: 0.2908 - val_binary_accuracy: 0.9245\n",
            "\n",
            "Epoch 00005: val_binary_accuracy did not improve from 0.92449\n",
            "Epoch 6/10\n",
            "57/57 [==============================] - 29s 505ms/step - loss: 0.2779 - binary_accuracy: 0.9318 - val_loss: 0.2901 - val_binary_accuracy: 0.9245\n",
            "\n",
            "Epoch 00006: val_binary_accuracy did not improve from 0.92449\n",
            "Epoch 7/10\n",
            "57/57 [==============================] - 29s 507ms/step - loss: 0.2616 - binary_accuracy: 0.9318 - val_loss: 0.2886 - val_binary_accuracy: 0.9245\n",
            "\n",
            "Epoch 00007: val_binary_accuracy did not improve from 0.92449\n",
            "Epoch 8/10\n",
            "57/57 [==============================] - 29s 508ms/step - loss: 0.2740 - binary_accuracy: 0.9307 - val_loss: 0.2874 - val_binary_accuracy: 0.9245\n",
            "\n",
            "Epoch 00008: val_binary_accuracy did not improve from 0.92449\n",
            "Epoch 9/10\n",
            "57/57 [==============================] - 29s 508ms/step - loss: 0.2546 - binary_accuracy: 0.9318 - val_loss: 0.2865 - val_binary_accuracy: 0.9245\n",
            "\n",
            "Epoch 00009: val_binary_accuracy did not improve from 0.92449\n",
            "Epoch 10/10\n",
            "57/57 [==============================] - 29s 507ms/step - loss: 0.2559 - binary_accuracy: 0.9307 - val_loss: 0.2907 - val_binary_accuracy: 0.9245\n",
            "\n",
            "Epoch 00010: val_binary_accuracy did not improve from 0.92449\n"
          ]
        }
      ]
    },
    {
      "cell_type": "code",
      "metadata": {
        "colab": {
          "base_uri": "https://localhost:8080/"
        },
        "id": "res_k4xuyBR0",
        "outputId": "6b7282dd-9e86-4bbc-d38d-2aeebe296bb2"
      },
      "source": [
        "score = model_1.evaluate(img_cv_gen, verbose=1, batch_size=64)"
      ],
      "execution_count": null,
      "outputs": [
        {
          "output_type": "stream",
          "name": "stdout",
          "text": [
            "31/31 [==============================] - 10s 318ms/step - loss: 0.2852 - binary_accuracy: 0.9245\n"
          ]
        }
      ]
    },
    {
      "cell_type": "code",
      "metadata": {
        "id": "Obyi-JiMyBPX"
      },
      "source": [
        "from sklearn.metrics import hamming_loss, recall_score, precision_score, f1_score\n",
        "\n",
        "def metrics(y_true, y_pred,):\n",
        "    print(\"Recall micro      : \", recall_score(y_true, y_pred, average='micro'))\n",
        "  print(\"Precision micro   : \", precision_score(y_true, y_pred, average='micro'))\n",
        "  print(\"Fl score micro    : \", f1_score(y_true, y_pred, average='micro'))\n",
        "\n"
      ],
      "execution_count": null,
      "outputs": []
    },
    {
      "cell_type": "code",
      "metadata": {
        "colab": {
          "base_uri": "https://localhost:8080/"
        },
        "id": "yAsvQIwxRLIC",
        "outputId": "26b750e4-e482-4bf8-b84e-13ec0a84f3e5"
      },
      "source": [
        "y_pred_0 = model_1.predict(img_cv_gen, batch_size=64)\n",
        "preds_0 = (model_1.predict(img_cv_gen)>0.5).astype(\"int32\")\n",
        "metrics(cv['Condition'], preds_0)"
      ],
      "execution_count": null,
      "outputs": [
        {
          "output_type": "stream",
          "name": "stdout",
          "text": [
            "Recall micro      :  0.9244897959183673\n",
            "Precision micro   :  0.9244897959183673\n",
            "Fl score micro    :  0.9244897959183674\n"
          ]
        }
      ]
    },
    {
      "cell_type": "markdown",
      "metadata": {
        "id": "vn_C6hIRItVj"
      },
      "source": [
        "**OBSERVATION**\n",
        "\n",
        "1. having only that class which is damage, as it is only we have predict the details about."
      ]
    },
    {
      "cell_type": "code",
      "metadata": {
        "id": "7k8_K1qRxy6F"
      },
      "source": [
        "def test_pred_cond(model, generator, testframe):\n",
        "\n",
        "  '''takes model : name of model or number of model,\n",
        "       generator : generator object for train/cv/test,\n",
        "       testframe : frame on which we have to predict condition'''\n",
        "       \n",
        "  pred = (model.predict(generator)>0.5).astype('int32')     \n",
        "  test_condition_model = testframe.copy()                \n",
        "  test_condition_model['Condition'] = pd.DataFrame(pred)\n",
        "\n",
        "  return test_condition_model\n",
        "  "
      ],
      "execution_count": null,
      "outputs": []
    },
    {
      "cell_type": "code",
      "metadata": {
        "id": "i_8PLszczBFR"
      },
      "source": [
        "test_condition_model_1 = test_pred_cond(model_1, img_test_gen, test_data_f)\n",
        "test_condition_model_1.to_csv('/content/gdrive/MyDrive/cs2/data/model1/img_only/test_condition_model_1.csv')"
      ],
      "execution_count": null,
      "outputs": []
    },
    {
      "cell_type": "code",
      "metadata": {
        "colab": {
          "base_uri": "https://localhost:8080/",
          "height": 350
        },
        "id": "YoqMd3xeyBMV",
        "outputId": "3e5808eb-09a5-496c-df28-05127f972c2e"
      },
      "source": [
        "#import matplotlib.pyplot as plt\n",
        "\n",
        "def plot_los():\n",
        "  fig = plt.figure(figsize=(15, 5)).patch.set_facecolor('silver')\n",
        "  plt.subplot(121)\n",
        "\n",
        "  plt.plot(hstry_1.history['binary_accuracy'])\n",
        "  plt.plot(hstry_1.history['val_binary_accuracy'])\n",
        "  plt.title('model binary accuracy')\n",
        "  plt.ylabel('accuracy')\n",
        "  plt.xlabel('epoch')\n",
        "  plt.legend(['train','test'], loc='upper left')\n",
        "  \n",
        "  plt.subplot(122)\n",
        "  plt.plot(hstry_1.history['loss'])\n",
        "  plt.plot(hstry_1.history['val_loss'])\n",
        "\n",
        "  plt.title('model binary loss')\n",
        "  plt.ylabel('loss')\n",
        "  plt.xlabel('epoch')\n",
        "  plt.legend(['train','test'], loc='upper left')\n",
        "  plt.show()\n",
        "\n",
        "plot_los()"
      ],
      "execution_count": null,
      "outputs": [
        {
          "output_type": "display_data",
          "data": {
            "image/png": "[encoded data removed]",
            "text/plain": [
              "<Figure size 1080x360 with 2 Axes>"
            ]
          },
          "metadata": {}
        }
      ]
    },
    {
      "cell_type": "markdown",
      "metadata": {
        "id": "ebiXgWvCJdcI"
      },
      "source": [
        "**OBSERVATION**\n",
        "\n",
        "1. from the loss curve, initially in epoch loss curve training loss is higher than validation loss that means underftting, which is quite evident as it is starting stage, but after epoch 3, validation loss is marginally\n",
        "higher than training loss indicates model starts overfitting, but epoch 3 is the best balance we are looking for.\n",
        "\n",
        "2. in binary accuracy plot training accuracy is increasing but test accuracy is constant because whaterever model learns it apllies on test set there is no new to learn from test data perspective, due to test set is limited with similar nature of condition (more damage), and repeatative similar images (i.e less variation in image data), this nature of graph occurs. \n",
        "\n",
        "3. try to overcome above limitation (point 2) with oversampling of inferior class, or using cars dataset, in version 2.0 of this case study."
      ]
    },
    {
      "cell_type": "code",
      "metadata": {
        "id": "39Xq1uAzZCHo"
      },
      "source": [
        "model_1.save('/content/gdrive/MyDrive/cs2/data/model1/model1_deepl.h5')"
      ],
      "execution_count": null,
      "outputs": []
    },
    {
      "cell_type": "markdown",
      "metadata": {
        "id": "Ao5pU2-Me-o2"
      },
      "source": [
        "##transfer learning "
      ]
    },
    {
      "cell_type": "code",
      "metadata": {
        "colab": {
          "base_uri": "https://localhost:8080/"
        },
        "id": "Hv20T_0keT-a",
        "outputId": "cdc31697-a851-485f-8b6e-65b6b04e4c6c"
      },
      "source": [
        "from tensorflow.keras.callbacks import *\n",
        "\n",
        "filepath = '/content/gdrive/MyDrive/cs2/data/model1/transfer_lrng/model1_transfer.hdf5'\n",
        "checkpoint = ModelCheckpoint(filepath=filepath, monitor='val_binary_accuracy', verbose=1,save_best_only=True, mode='auto', save_freq='epoch')\n",
        "reduce_lr = ReduceLROnPlateau(monitor='val_loss', factor=0.3, patience=3, min_lr=0.000001)\n",
        "\n",
        "optimizer = tf.keras.optimizers.Adam(learning_rate=0.001, beta_1=0.9, beta_2=0.999, epsilon=1e-07)\n",
        "model_1_transfer_lrng.compile(loss='binary_crossentropy', optimizer = optimizer, metrics=[tf.keras.metrics.BinaryAccuracy()])\n",
        "\n",
        "hstry_1_transfer_lrng = model_1_transfer_lrng.fit(img_train_gen,epochs=10, validation_data=img_cv_gen, batch_size=64, \n",
        "          callbacks=[checkpoint, reduce_lr])"
      ],
      "execution_count": null,
      "outputs": [
        {
          "output_type": "stream",
          "name": "stdout",
          "text": [
            "Epoch 1/10\n",
            "57/57 [==============================] - 32s 529ms/step - loss: 4.9261 - binary_accuracy: 0.6604 - val_loss: 1.5434 - val_binary_accuracy: 0.8975\n",
            "\n",
            "Epoch 00001: val_binary_accuracy improved from -inf to 0.89748, saving model to /content/gdrive/MyDrive/cs2/data/model1/transfer_lrng/model1_transfer.hdf5\n",
            "Epoch 2/10\n",
            "57/57 [==============================] - 30s 532ms/step - loss: 2.4359 - binary_accuracy: 0.8344 - val_loss: 1.1515 - val_binary_accuracy: 0.9245\n",
            "\n",
            "Epoch 00002: val_binary_accuracy improved from 0.89748 to 0.92449, saving model to /content/gdrive/MyDrive/cs2/data/model1/transfer_lrng/model1_transfer.hdf5\n",
            "Epoch 3/10\n",
            "57/57 [==============================] - 31s 536ms/step - loss: 1.7221 - binary_accuracy: 0.8831 - val_loss: 1.1515 - val_binary_accuracy: 0.9245\n",
            "\n",
            "Epoch 00003: val_binary_accuracy did not improve from 0.92449\n",
            "Epoch 4/10\n",
            "57/57 [==============================] - 30s 521ms/step - loss: 1.3560 - binary_accuracy: 0.9069 - val_loss: 1.1515 - val_binary_accuracy: 0.9245\n",
            "\n",
            "Epoch 00004: val_binary_accuracy did not improve from 0.92449\n",
            "Epoch 5/10\n",
            "57/57 [==============================] - 29s 518ms/step - loss: 1.2622 - binary_accuracy: 0.9152 - val_loss: 1.1515 - val_binary_accuracy: 0.9245\n",
            "\n",
            "Epoch 00005: val_binary_accuracy did not improve from 0.92449\n",
            "Epoch 6/10\n",
            "57/57 [==============================] - 29s 510ms/step - loss: 1.2073 - binary_accuracy: 0.9197 - val_loss: 1.1515 - val_binary_accuracy: 0.9245\n",
            "\n",
            "Epoch 00006: val_binary_accuracy did not improve from 0.92449\n",
            "Epoch 7/10\n",
            "57/57 [==============================] - 29s 509ms/step - loss: 1.1870 - binary_accuracy: 0.9202 - val_loss: 1.1515 - val_binary_accuracy: 0.9245\n",
            "\n",
            "Epoch 00007: val_binary_accuracy did not improve from 0.92449\n",
            "Epoch 8/10\n",
            "57/57 [==============================] - 29s 518ms/step - loss: 1.1737 - binary_accuracy: 0.9223 - val_loss: 1.1515 - val_binary_accuracy: 0.9245\n",
            "\n",
            "Epoch 00008: val_binary_accuracy did not improve from 0.92449\n",
            "Epoch 9/10\n",
            "57/57 [==============================] - 30s 535ms/step - loss: 1.1635 - binary_accuracy: 0.9230 - val_loss: 1.1515 - val_binary_accuracy: 0.9245\n",
            "\n",
            "Epoch 00009: val_binary_accuracy did not improve from 0.92449\n",
            "Epoch 10/10\n",
            "57/57 [==============================] - 31s 535ms/step - loss: 1.1572 - binary_accuracy: 0.9234 - val_loss: 1.1515 - val_binary_accuracy: 0.9245\n",
            "\n",
            "Epoch 00010: val_binary_accuracy did not improve from 0.92449\n"
          ]
        }
      ]
    },
    {
      "cell_type": "code",
      "metadata": {
        "colab": {
          "base_uri": "https://localhost:8080/",
          "height": 350
        },
        "id": "0YYe_VV3ScBR",
        "outputId": "d1eac842-4036-4902-e383-aab37e414c11"
      },
      "source": [
        "#import matplotlib.pyplot as plt\n",
        "\n",
        "def plot_los():\n",
        "  fig = plt.figure(figsize=(15, 5)).patch.set_facecolor('silver')\n",
        "  plt.subplot(121)\n",
        "\n",
        "  plt.plot(hstry_1_transfer_lrng.history['binary_accuracy'])\n",
        "  plt.plot(hstry_1_transfer_lrng.history['val_binary_accuracy'])\n",
        "  plt.title('model binary accuracy')\n",
        "  plt.ylabel('accuracy')\n",
        "  plt.xlabel('epoch')\n",
        "  plt.legend(['train','test'], loc='upper left')\n",
        "  \n",
        "  plt.subplot(122)\n",
        "  plt.plot(hstry_1_transfer_lrng.history['loss'])\n",
        "  plt.plot(hstry_1_transfer_lrng.history['val_loss'])\n",
        "\n",
        "  plt.title('model binary loss')\n",
        "  plt.ylabel('loss')\n",
        "  plt.xlabel('epoch')\n",
        "  plt.legend(['train','test'], loc='upper left')\n",
        "  plt.show()\n",
        "\n",
        "plot_los()"
      ],
      "execution_count": null,
      "outputs": [
        {
          "output_type": "display_data",
          "data": {
            "image/png": "[encoded data removed]",
            "text/plain": [
              "<Figure size 1080x360 with 2 Axes>"
            ]
          },
          "metadata": {}
        }
      ]
    },
    {
      "cell_type": "markdown",
      "metadata": {
        "id": "5IsQowwZOj2r"
      },
      "source": [
        "**OBSERVATION**\n",
        "\n",
        "1. from the loss curve, initially in epoch loss curve training loss is higher than validation loss that means underftting, which is quite evident as it is starting stage, but after epoch 6, validation loss is more or less equal to\n",
        "training loss indicates model as it is the balance we are looking for.\n",
        "\n",
        "2. in binary accuracy plot training accuracy is increasing but test accuracy is constant because whaterever model learns it apllies on test set there is no new to learn from test data perspective, due to test set is limited with similar nature of condition (more damage), and repeatative similar images (i.e less variation in image data), this nature of graph occurs. \n",
        "\n",
        "3. try to overcome above limitation (point 2) with oversampling of inferior class, or using cars dataset, in version 2.0 of this case study."
      ]
    },
    {
      "cell_type": "code",
      "metadata": {
        "id": "xZcx_gtCh6Xr"
      },
      "source": [
        "model_1_transfer_lrng.save('/content/gdrive/MyDrive/cs2/data/model1/tranfer_lrng/model1_transfer_learning.h5')"
      ],
      "execution_count": null,
      "outputs": []
    },
    {
      "cell_type": "code",
      "metadata": {
        "id": "rcpQefv34utd"
      },
      "source": [
        "def get_embedd(model, generator, generator_1, generator_2, batch): \n",
        "\n",
        "    '''takes input of model : vgg-19/resnet/mobilenet/custom respectively in subsequent stages,\n",
        "      generator, generator_1, generator_2 : image datagen for tain,test,cv\n",
        "      batch   :  batch size (int)\n",
        "      returns :  dataframe of train and test having transfer weights'''\n",
        "  \n",
        "    y_pred = model.predict(generator, batch)\n",
        "    df = pd.DataFrame(y_pred)\n",
        "    test_condition_model_1_tf = test_data_f.copy()\n",
        "    test_condition_model_1_tf = pd.concat([test_condition_model_1, df], axis=1, join='inner')\n",
        "    test_condition_model_1_tf.to_csv('/content/gdrive/MyDrive/cs2/data/model1/tranfer_lrng/test_model_1_transfer_learning.csv')\n",
        "\n",
        "    y_pred_tr = model.predict(generator_1, batch)\n",
        "    y_pred_cv = model.predict(generator_2, batch)\n",
        "    kd0 = pd.concat([train, cv], axis=0)\n",
        "    kd0.reset_index(inplace=True)\n",
        "    print(kd0.shape)\n",
        "    kd1 = pd.concat([pd.DataFrame(y_pred_tr), pd.DataFrame(y_pred_cv)], axis=0)\n",
        "    kd1.reset_index(inplace=True)\n",
        "    print(kd1.shape)\n",
        "    kd_ = pd.concat([kd0,kd1], axis=1)\n",
        "    kd_.to_csv('/content/gdrive/MyDrive/cs2/data/model1/tranfer_lrng/train_model_1_transfer_learning.csv')\n",
        "\n",
        "    return test_condition_model_1_tf, kd_\n"
      ],
      "execution_count": null,
      "outputs": []
    },
    {
      "cell_type": "code",
      "metadata": {
        "id": "oJMNUHjjCnRx",
        "colab": {
          "base_uri": "https://localhost:8080/"
        },
        "outputId": "e33a877c-8de1-4a35-d759-4f4c1df69e4f"
      },
      "source": [
        "#_,train_transfer_wt = get_embedd(model_1_transfer_lrng, img_train_gen, img_cv_gen, 16, train=True)\n",
        "test_transfer_wt,train_transfer_wt = get_embedd(model_1_transfer_lrng, img_test_gen, img_train_gen, img_cv_gen, 16)#, train=False)"
      ],
      "execution_count": null,
      "outputs": [
        {
          "output_type": "stream",
          "name": "stdout",
          "text": [
            "(1399, 26)\n",
            "(1399, 65)\n"
          ]
        }
      ]
    },
    {
      "cell_type": "markdown",
      "metadata": {
        "id": "PwxxOeYFDUiP"
      },
      "source": [
        "#RESNET50\n"
      ]
    },
    {
      "cell_type": "markdown",
      "metadata": {
        "id": "OA4sOB8x_Y4k"
      },
      "source": [
        "## simple"
      ]
    },
    {
      "cell_type": "code",
      "metadata": {
        "id": "zCQSsjGTDYoY"
      },
      "source": [
        "base_resnet50 = tf.keras.applications.ResNet50(weights='imagenet',include_top=False, input_shape=(224,224,3))"
      ],
      "execution_count": null,
      "outputs": []
    },
    {
      "cell_type": "code",
      "metadata": {
        "colab": {
          "base_uri": "https://localhost:8080/"
        },
        "id": "mrrzEovf6hRB",
        "outputId": "a9aaa619-b402-47b1-f261-4bd318cf59e1"
      },
      "source": [
        "for layer in base_resnet50.layers[:175]:      ##for sake of checking\n",
        "  layer.trainable = False\n",
        "for i,layer in enumerate(base_resnet50.layers):\n",
        "  print(i, layer.name, layer.trainable)                     \n"
      ],
      "execution_count": null,
      "outputs": [
        {
          "output_type": "stream",
          "name": "stdout",
          "text": [
            "0 input_3 False\n",
            "1 conv1_pad False\n",
            "2 conv1_conv False\n",
            "3 conv1_bn False\n",
            "4 conv1_relu False\n",
            "5 pool1_pad False\n",
            "6 pool1_pool False\n",
            "7 conv2_block1_1_conv False\n",
            "8 conv2_block1_1_bn False\n",
            "9 conv2_block1_1_relu False\n",
            "10 conv2_block1_2_conv False\n",
            "11 conv2_block1_2_bn False\n",
            "12 conv2_block1_2_relu False\n",
            "13 conv2_block1_0_conv False\n",
            "14 conv2_block1_3_conv False\n",
            "15 conv2_block1_0_bn False\n",
            "16 conv2_block1_3_bn False\n",
            "17 conv2_block1_add False\n",
            "18 conv2_block1_out False\n",
            "19 conv2_block2_1_conv False\n",
            "20 conv2_block2_1_bn False\n",
            "21 conv2_block2_1_relu False\n",
            "22 conv2_block2_2_conv False\n",
            "23 conv2_block2_2_bn False\n",
            "24 conv2_block2_2_relu False\n",
            "25 conv2_block2_3_conv False\n",
            "26 conv2_block2_3_bn False\n",
            "27 conv2_block2_add False\n",
            "28 conv2_block2_out False\n",
            "29 conv2_block3_1_conv False\n",
            "30 conv2_block3_1_bn False\n",
            "31 conv2_block3_1_relu False\n",
            "32 conv2_block3_2_conv False\n",
            "33 conv2_block3_2_bn False\n",
            "34 conv2_block3_2_relu False\n",
            "35 conv2_block3_3_conv False\n",
            "36 conv2_block3_3_bn False\n",
            "37 conv2_block3_add False\n",
            "38 conv2_block3_out False\n",
            "39 conv3_block1_1_conv False\n",
            "40 conv3_block1_1_bn False\n",
            "41 conv3_block1_1_relu False\n",
            "42 conv3_block1_2_conv False\n",
            "43 conv3_block1_2_bn False\n",
            "44 conv3_block1_2_relu False\n",
            "45 conv3_block1_0_conv False\n",
            "46 conv3_block1_3_conv False\n",
            "47 conv3_block1_0_bn False\n",
            "48 conv3_block1_3_bn False\n",
            "49 conv3_block1_add False\n",
            "50 conv3_block1_out False\n",
            "51 conv3_block2_1_conv False\n",
            "52 conv3_block2_1_bn False\n",
            "53 conv3_block2_1_relu False\n",
            "54 conv3_block2_2_conv False\n",
            "55 conv3_block2_2_bn False\n",
            "56 conv3_block2_2_relu False\n",
            "57 conv3_block2_3_conv False\n",
            "58 conv3_block2_3_bn False\n",
            "59 conv3_block2_add False\n",
            "60 conv3_block2_out False\n",
            "61 conv3_block3_1_conv False\n",
            "62 conv3_block3_1_bn False\n",
            "63 conv3_block3_1_relu False\n",
            "64 conv3_block3_2_conv False\n",
            "65 conv3_block3_2_bn False\n",
            "66 conv3_block3_2_relu False\n",
            "67 conv3_block3_3_conv False\n",
            "68 conv3_block3_3_bn False\n",
            "69 conv3_block3_add False\n",
            "70 conv3_block3_out False\n",
            "71 conv3_block4_1_conv False\n",
            "72 conv3_block4_1_bn False\n",
            "73 conv3_block4_1_relu False\n",
            "74 conv3_block4_2_conv False\n",
            "75 conv3_block4_2_bn False\n",
            "76 conv3_block4_2_relu False\n",
            "77 conv3_block4_3_conv False\n",
            "78 conv3_block4_3_bn False\n",
            "79 conv3_block4_add False\n",
            "80 conv3_block4_out False\n",
            "81 conv4_block1_1_conv False\n",
            "82 conv4_block1_1_bn False\n",
            "83 conv4_block1_1_relu False\n",
            "84 conv4_block1_2_conv False\n",
            "85 conv4_block1_2_bn False\n",
            "86 conv4_block1_2_relu False\n",
            "87 conv4_block1_0_conv False\n",
            "88 conv4_block1_3_conv False\n",
            "89 conv4_block1_0_bn False\n",
            "90 conv4_block1_3_bn False\n",
            "91 conv4_block1_add False\n",
            "92 conv4_block1_out False\n",
            "93 conv4_block2_1_conv False\n",
            "94 conv4_block2_1_bn False\n",
            "95 conv4_block2_1_relu False\n",
            "96 conv4_block2_2_conv False\n",
            "97 conv4_block2_2_bn False\n",
            "98 conv4_block2_2_relu False\n",
            "99 conv4_block2_3_conv False\n",
            "100 conv4_block2_3_bn False\n",
            "101 conv4_block2_add False\n",
            "102 conv4_block2_out False\n",
            "103 conv4_block3_1_conv False\n",
            "104 conv4_block3_1_bn False\n",
            "105 conv4_block3_1_relu False\n",
            "106 conv4_block3_2_conv False\n",
            "107 conv4_block3_2_bn False\n",
            "108 conv4_block3_2_relu False\n",
            "109 conv4_block3_3_conv False\n",
            "110 conv4_block3_3_bn False\n",
            "111 conv4_block3_add False\n",
            "112 conv4_block3_out False\n",
            "113 conv4_block4_1_conv False\n",
            "114 conv4_block4_1_bn False\n",
            "115 conv4_block4_1_relu False\n",
            "116 conv4_block4_2_conv False\n",
            "117 conv4_block4_2_bn False\n",
            "118 conv4_block4_2_relu False\n",
            "119 conv4_block4_3_conv False\n",
            "120 conv4_block4_3_bn False\n",
            "121 conv4_block4_add False\n",
            "122 conv4_block4_out False\n",
            "123 conv4_block5_1_conv False\n",
            "124 conv4_block5_1_bn False\n",
            "125 conv4_block5_1_relu False\n",
            "126 conv4_block5_2_conv False\n",
            "127 conv4_block5_2_bn False\n",
            "128 conv4_block5_2_relu False\n",
            "129 conv4_block5_3_conv False\n",
            "130 conv4_block5_3_bn False\n",
            "131 conv4_block5_add False\n",
            "132 conv4_block5_out False\n",
            "133 conv4_block6_1_conv False\n",
            "134 conv4_block6_1_bn False\n",
            "135 conv4_block6_1_relu False\n",
            "136 conv4_block6_2_conv False\n",
            "137 conv4_block6_2_bn False\n",
            "138 conv4_block6_2_relu False\n",
            "139 conv4_block6_3_conv False\n",
            "140 conv4_block6_3_bn False\n",
            "141 conv4_block6_add False\n",
            "142 conv4_block6_out False\n",
            "143 conv5_block1_1_conv False\n",
            "144 conv5_block1_1_bn False\n",
            "145 conv5_block1_1_relu False\n",
            "146 conv5_block1_2_conv False\n",
            "147 conv5_block1_2_bn False\n",
            "148 conv5_block1_2_relu False\n",
            "149 conv5_block1_0_conv False\n",
            "150 conv5_block1_3_conv False\n",
            "151 conv5_block1_0_bn False\n",
            "152 conv5_block1_3_bn False\n",
            "153 conv5_block1_add False\n",
            "154 conv5_block1_out False\n",
            "155 conv5_block2_1_conv False\n",
            "156 conv5_block2_1_bn False\n",
            "157 conv5_block2_1_relu False\n",
            "158 conv5_block2_2_conv False\n",
            "159 conv5_block2_2_bn False\n",
            "160 conv5_block2_2_relu False\n",
            "161 conv5_block2_3_conv False\n",
            "162 conv5_block2_3_bn False\n",
            "163 conv5_block2_add False\n",
            "164 conv5_block2_out False\n",
            "165 conv5_block3_1_conv False\n",
            "166 conv5_block3_1_bn False\n",
            "167 conv5_block3_1_relu False\n",
            "168 conv5_block3_2_conv False\n",
            "169 conv5_block3_2_bn False\n",
            "170 conv5_block3_2_relu False\n",
            "171 conv5_block3_3_conv False\n",
            "172 conv5_block3_3_bn False\n",
            "173 conv5_block3_add False\n",
            "174 conv5_block3_out False\n"
          ]
        }
      ]
    },
    {
      "cell_type": "code",
      "metadata": {
        "colab": {
          "base_uri": "https://localhost:8080/"
        },
        "id": "boEEuYdX6uUX",
        "outputId": "a4757073-041a-4ed2-d49a-bc9a6651db61"
      },
      "source": [
        "model_2, model_2_transfer_lrng = final_model(base_resnet50)"
      ],
      "execution_count": null,
      "outputs": [
        {
          "output_type": "stream",
          "name": "stdout",
          "text": [
            "Model: \"model_2\"\n",
            "__________________________________________________________________________________________________\n",
            "Layer (type)                    Output Shape         Param #     Connected to                     \n",
            "==================================================================================================\n",
            "input_3 (InputLayer)            [(None, 224, 224, 3) 0                                            \n",
            "__________________________________________________________________________________________________\n",
            "conv1_pad (ZeroPadding2D)       (None, 230, 230, 3)  0           input_3[0][0]                    \n",
            "__________________________________________________________________________________________________\n",
            "conv1_conv (Conv2D)             (None, 112, 112, 64) 9472        conv1_pad[0][0]                  \n",
            "__________________________________________________________________________________________________\n",
            "conv1_bn (BatchNormalization)   (None, 112, 112, 64) 256         conv1_conv[0][0]                 \n",
            "__________________________________________________________________________________________________\n",
            "conv1_relu (Activation)         (None, 112, 112, 64) 0           conv1_bn[0][0]                   \n",
            "__________________________________________________________________________________________________\n",
            "pool1_pad (ZeroPadding2D)       (None, 114, 114, 64) 0           conv1_relu[0][0]                 \n",
            "__________________________________________________________________________________________________\n",
            "pool1_pool (MaxPooling2D)       (None, 56, 56, 64)   0           pool1_pad[0][0]                  \n",
            "__________________________________________________________________________________________________\n",
            "conv2_block1_1_conv (Conv2D)    (None, 56, 56, 64)   4160        pool1_pool[0][0]                 \n",
            "__________________________________________________________________________________________________\n",
            "conv2_block1_1_bn (BatchNormali (None, 56, 56, 64)   256         conv2_block1_1_conv[0][0]        \n",
            "__________________________________________________________________________________________________\n",
            "conv2_block1_1_relu (Activation (None, 56, 56, 64)   0           conv2_block1_1_bn[0][0]          \n",
            "__________________________________________________________________________________________________\n",
            "conv2_block1_2_conv (Conv2D)    (None, 56, 56, 64)   36928       conv2_block1_1_relu[0][0]        \n",
            "__________________________________________________________________________________________________\n",
            "conv2_block1_2_bn (BatchNormali (None, 56, 56, 64)   256         conv2_block1_2_conv[0][0]        \n",
            "__________________________________________________________________________________________________\n",
            "conv2_block1_2_relu (Activation (None, 56, 56, 64)   0           conv2_block1_2_bn[0][0]          \n",
            "__________________________________________________________________________________________________\n",
            "conv2_block1_0_conv (Conv2D)    (None, 56, 56, 256)  16640       pool1_pool[0][0]                 \n",
            "__________________________________________________________________________________________________\n",
            "conv2_block1_3_conv (Conv2D)    (None, 56, 56, 256)  16640       conv2_block1_2_relu[0][0]        \n",
            "__________________________________________________________________________________________________\n",
            "conv2_block1_0_bn (BatchNormali (None, 56, 56, 256)  1024        conv2_block1_0_conv[0][0]        \n",
            "__________________________________________________________________________________________________\n",
            "conv2_block1_3_bn (BatchNormali (None, 56, 56, 256)  1024        conv2_block1_3_conv[0][0]        \n",
            "__________________________________________________________________________________________________\n",
            "conv2_block1_add (Add)          (None, 56, 56, 256)  0           conv2_block1_0_bn[0][0]          \n",
            "                                                                 conv2_block1_3_bn[0][0]          \n",
            "__________________________________________________________________________________________________\n",
            "conv2_block1_out (Activation)   (None, 56, 56, 256)  0           conv2_block1_add[0][0]           \n",
            "__________________________________________________________________________________________________\n",
            "conv2_block2_1_conv (Conv2D)    (None, 56, 56, 64)   16448       conv2_block1_out[0][0]           \n",
            "__________________________________________________________________________________________________\n",
            "conv2_block2_1_bn (BatchNormali (None, 56, 56, 64)   256         conv2_block2_1_conv[0][0]        \n",
            "__________________________________________________________________________________________________\n",
            "conv2_block2_1_relu (Activation (None, 56, 56, 64)   0           conv2_block2_1_bn[0][0]          \n",
            "__________________________________________________________________________________________________\n",
            "conv2_block2_2_conv (Conv2D)    (None, 56, 56, 64)   36928       conv2_block2_1_relu[0][0]        \n",
            "__________________________________________________________________________________________________\n",
            "conv2_block2_2_bn (BatchNormali (None, 56, 56, 64)   256         conv2_block2_2_conv[0][0]        \n",
            "__________________________________________________________________________________________________\n",
            "conv2_block2_2_relu (Activation (None, 56, 56, 64)   0           conv2_block2_2_bn[0][0]          \n",
            "__________________________________________________________________________________________________\n",
            "conv2_block2_3_conv (Conv2D)    (None, 56, 56, 256)  16640       conv2_block2_2_relu[0][0]        \n",
            "__________________________________________________________________________________________________\n",
            "conv2_block2_3_bn (BatchNormali (None, 56, 56, 256)  1024        conv2_block2_3_conv[0][0]        \n",
            "__________________________________________________________________________________________________\n",
            "conv2_block2_add (Add)          (None, 56, 56, 256)  0           conv2_block1_out[0][0]           \n",
            "                                                                 conv2_block2_3_bn[0][0]          \n",
            "__________________________________________________________________________________________________\n",
            "conv2_block2_out (Activation)   (None, 56, 56, 256)  0           conv2_block2_add[0][0]           \n",
            "__________________________________________________________________________________________________\n",
            "conv2_block3_1_conv (Conv2D)    (None, 56, 56, 64)   16448       conv2_block2_out[0][0]           \n",
            "__________________________________________________________________________________________________\n",
            "conv2_block3_1_bn (BatchNormali (None, 56, 56, 64)   256         conv2_block3_1_conv[0][0]        \n",
            "__________________________________________________________________________________________________\n",
            "conv2_block3_1_relu (Activation (None, 56, 56, 64)   0           conv2_block3_1_bn[0][0]          \n",
            "__________________________________________________________________________________________________\n",
            "conv2_block3_2_conv (Conv2D)    (None, 56, 56, 64)   36928       conv2_block3_1_relu[0][0]        \n",
            "__________________________________________________________________________________________________\n",
            "conv2_block3_2_bn (BatchNormali (None, 56, 56, 64)   256         conv2_block3_2_conv[0][0]        \n",
            "__________________________________________________________________________________________________\n",
            "conv2_block3_2_relu (Activation (None, 56, 56, 64)   0           conv2_block3_2_bn[0][0]          \n",
            "__________________________________________________________________________________________________\n",
            "conv2_block3_3_conv (Conv2D)    (None, 56, 56, 256)  16640       conv2_block3_2_relu[0][0]        \n",
            "__________________________________________________________________________________________________\n",
            "conv2_block3_3_bn (BatchNormali (None, 56, 56, 256)  1024        conv2_block3_3_conv[0][0]        \n",
            "__________________________________________________________________________________________________\n",
            "conv2_block3_add (Add)          (None, 56, 56, 256)  0           conv2_block2_out[0][0]           \n",
            "                                                                 conv2_block3_3_bn[0][0]          \n",
            "__________________________________________________________________________________________________\n",
            "conv2_block3_out (Activation)   (None, 56, 56, 256)  0           conv2_block3_add[0][0]           \n",
            "__________________________________________________________________________________________________\n",
            "conv3_block1_1_conv (Conv2D)    (None, 28, 28, 128)  32896       conv2_block3_out[0][0]           \n",
            "__________________________________________________________________________________________________\n",
            "conv3_block1_1_bn (BatchNormali (None, 28, 28, 128)  512         conv3_block1_1_conv[0][0]        \n",
            "__________________________________________________________________________________________________\n",
            "conv3_block1_1_relu (Activation (None, 28, 28, 128)  0           conv3_block1_1_bn[0][0]          \n",
            "__________________________________________________________________________________________________\n",
            "conv3_block1_2_conv (Conv2D)    (None, 28, 28, 128)  147584      conv3_block1_1_relu[0][0]        \n",
            "__________________________________________________________________________________________________\n",
            "conv3_block1_2_bn (BatchNormali (None, 28, 28, 128)  512         conv3_block1_2_conv[0][0]        \n",
            "__________________________________________________________________________________________________\n",
            "conv3_block1_2_relu (Activation (None, 28, 28, 128)  0           conv3_block1_2_bn[0][0]          \n",
            "__________________________________________________________________________________________________\n",
            "conv3_block1_0_conv (Conv2D)    (None, 28, 28, 512)  131584      conv2_block3_out[0][0]           \n",
            "__________________________________________________________________________________________________\n",
            "conv3_block1_3_conv (Conv2D)    (None, 28, 28, 512)  66048       conv3_block1_2_relu[0][0]        \n",
            "__________________________________________________________________________________________________\n",
            "conv3_block1_0_bn (BatchNormali (None, 28, 28, 512)  2048        conv3_block1_0_conv[0][0]        \n",
            "__________________________________________________________________________________________________\n",
            "conv3_block1_3_bn (BatchNormali (None, 28, 28, 512)  2048        conv3_block1_3_conv[0][0]        \n",
            "__________________________________________________________________________________________________\n",
            "conv3_block1_add (Add)          (None, 28, 28, 512)  0           conv3_block1_0_bn[0][0]          \n",
            "                                                                 conv3_block1_3_bn[0][0]          \n",
            "__________________________________________________________________________________________________\n",
            "conv3_block1_out (Activation)   (None, 28, 28, 512)  0           conv3_block1_add[0][0]           \n",
            "__________________________________________________________________________________________________\n",
            "conv3_block2_1_conv (Conv2D)    (None, 28, 28, 128)  65664       conv3_block1_out[0][0]           \n",
            "__________________________________________________________________________________________________\n",
            "conv3_block2_1_bn (BatchNormali (None, 28, 28, 128)  512         conv3_block2_1_conv[0][0]        \n",
            "__________________________________________________________________________________________________\n",
            "conv3_block2_1_relu (Activation (None, 28, 28, 128)  0           conv3_block2_1_bn[0][0]          \n",
            "__________________________________________________________________________________________________\n",
            "conv3_block2_2_conv (Conv2D)    (None, 28, 28, 128)  147584      conv3_block2_1_relu[0][0]        \n",
            "__________________________________________________________________________________________________\n",
            "conv3_block2_2_bn (BatchNormali (None, 28, 28, 128)  512         conv3_block2_2_conv[0][0]        \n",
            "__________________________________________________________________________________________________\n",
            "conv3_block2_2_relu (Activation (None, 28, 28, 128)  0           conv3_block2_2_bn[0][0]          \n",
            "__________________________________________________________________________________________________\n",
            "conv3_block2_3_conv (Conv2D)    (None, 28, 28, 512)  66048       conv3_block2_2_relu[0][0]        \n",
            "__________________________________________________________________________________________________\n",
            "conv3_block2_3_bn (BatchNormali (None, 28, 28, 512)  2048        conv3_block2_3_conv[0][0]        \n",
            "__________________________________________________________________________________________________\n",
            "conv3_block2_add (Add)          (None, 28, 28, 512)  0           conv3_block1_out[0][0]           \n",
            "                                                                 conv3_block2_3_bn[0][0]          \n",
            "__________________________________________________________________________________________________\n",
            "conv3_block2_out (Activation)   (None, 28, 28, 512)  0           conv3_block2_add[0][0]           \n",
            "__________________________________________________________________________________________________\n",
            "conv3_block3_1_conv (Conv2D)    (None, 28, 28, 128)  65664       conv3_block2_out[0][0]           \n",
            "__________________________________________________________________________________________________\n",
            "conv3_block3_1_bn (BatchNormali (None, 28, 28, 128)  512         conv3_block3_1_conv[0][0]        \n",
            "__________________________________________________________________________________________________\n",
            "conv3_block3_1_relu (Activation (None, 28, 28, 128)  0           conv3_block3_1_bn[0][0]          \n",
            "__________________________________________________________________________________________________\n",
            "conv3_block3_2_conv (Conv2D)    (None, 28, 28, 128)  147584      conv3_block3_1_relu[0][0]        \n",
            "__________________________________________________________________________________________________\n",
            "conv3_block3_2_bn (BatchNormali (None, 28, 28, 128)  512         conv3_block3_2_conv[0][0]        \n",
            "__________________________________________________________________________________________________\n",
            "conv3_block3_2_relu (Activation (None, 28, 28, 128)  0           conv3_block3_2_bn[0][0]          \n",
            "__________________________________________________________________________________________________\n",
            "conv3_block3_3_conv (Conv2D)    (None, 28, 28, 512)  66048       conv3_block3_2_relu[0][0]        \n",
            "__________________________________________________________________________________________________\n",
            "conv3_block3_3_bn (BatchNormali (None, 28, 28, 512)  2048        conv3_block3_3_conv[0][0]        \n",
            "__________________________________________________________________________________________________\n",
            "conv3_block3_add (Add)          (None, 28, 28, 512)  0           conv3_block2_out[0][0]           \n",
            "                                                                 conv3_block3_3_bn[0][0]          \n",
            "__________________________________________________________________________________________________\n",
            "conv3_block3_out (Activation)   (None, 28, 28, 512)  0           conv3_block3_add[0][0]           \n",
            "__________________________________________________________________________________________________\n",
            "conv3_block4_1_conv (Conv2D)    (None, 28, 28, 128)  65664       conv3_block3_out[0][0]           \n",
            "__________________________________________________________________________________________________\n",
            "conv3_block4_1_bn (BatchNormali (None, 28, 28, 128)  512         conv3_block4_1_conv[0][0]        \n",
            "__________________________________________________________________________________________________\n",
            "conv3_block4_1_relu (Activation (None, 28, 28, 128)  0           conv3_block4_1_bn[0][0]          \n",
            "__________________________________________________________________________________________________\n",
            "conv3_block4_2_conv (Conv2D)    (None, 28, 28, 128)  147584      conv3_block4_1_relu[0][0]        \n",
            "__________________________________________________________________________________________________\n",
            "conv3_block4_2_bn (BatchNormali (None, 28, 28, 128)  512         conv3_block4_2_conv[0][0]        \n",
            "__________________________________________________________________________________________________\n",
            "conv3_block4_2_relu (Activation (None, 28, 28, 128)  0           conv3_block4_2_bn[0][0]          \n",
            "__________________________________________________________________________________________________\n",
            "conv3_block4_3_conv (Conv2D)    (None, 28, 28, 512)  66048       conv3_block4_2_relu[0][0]        \n",
            "__________________________________________________________________________________________________\n",
            "conv3_block4_3_bn (BatchNormali (None, 28, 28, 512)  2048        conv3_block4_3_conv[0][0]        \n",
            "__________________________________________________________________________________________________\n",
            "conv3_block4_add (Add)          (None, 28, 28, 512)  0           conv3_block3_out[0][0]           \n",
            "                                                                 conv3_block4_3_bn[0][0]          \n",
            "__________________________________________________________________________________________________\n",
            "conv3_block4_out (Activation)   (None, 28, 28, 512)  0           conv3_block4_add[0][0]           \n",
            "__________________________________________________________________________________________________\n",
            "conv4_block1_1_conv (Conv2D)    (None, 14, 14, 256)  131328      conv3_block4_out[0][0]           \n",
            "__________________________________________________________________________________________________\n",
            "conv4_block1_1_bn (BatchNormali (None, 14, 14, 256)  1024        conv4_block1_1_conv[0][0]        \n",
            "__________________________________________________________________________________________________\n",
            "conv4_block1_1_relu (Activation (None, 14, 14, 256)  0           conv4_block1_1_bn[0][0]          \n",
            "__________________________________________________________________________________________________\n",
            "conv4_block1_2_conv (Conv2D)    (None, 14, 14, 256)  590080      conv4_block1_1_relu[0][0]        \n",
            "__________________________________________________________________________________________________\n",
            "conv4_block1_2_bn (BatchNormali (None, 14, 14, 256)  1024        conv4_block1_2_conv[0][0]        \n",
            "__________________________________________________________________________________________________\n",
            "conv4_block1_2_relu (Activation (None, 14, 14, 256)  0           conv4_block1_2_bn[0][0]          \n",
            "__________________________________________________________________________________________________\n",
            "conv4_block1_0_conv (Conv2D)    (None, 14, 14, 1024) 525312      conv3_block4_out[0][0]           \n",
            "__________________________________________________________________________________________________\n",
            "conv4_block1_3_conv (Conv2D)    (None, 14, 14, 1024) 263168      conv4_block1_2_relu[0][0]        \n",
            "__________________________________________________________________________________________________\n",
            "conv4_block1_0_bn (BatchNormali (None, 14, 14, 1024) 4096        conv4_block1_0_conv[0][0]        \n",
            "__________________________________________________________________________________________________\n",
            "conv4_block1_3_bn (BatchNormali (None, 14, 14, 1024) 4096        conv4_block1_3_conv[0][0]        \n",
            "__________________________________________________________________________________________________\n",
            "conv4_block1_add (Add)          (None, 14, 14, 1024) 0           conv4_block1_0_bn[0][0]          \n",
            "                                                                 conv4_block1_3_bn[0][0]          \n",
            "__________________________________________________________________________________________________\n",
            "conv4_block1_out (Activation)   (None, 14, 14, 1024) 0           conv4_block1_add[0][0]           \n",
            "__________________________________________________________________________________________________\n",
            "conv4_block2_1_conv (Conv2D)    (None, 14, 14, 256)  262400      conv4_block1_out[0][0]           \n",
            "__________________________________________________________________________________________________\n",
            "conv4_block2_1_bn (BatchNormali (None, 14, 14, 256)  1024        conv4_block2_1_conv[0][0]        \n",
            "__________________________________________________________________________________________________\n",
            "conv4_block2_1_relu (Activation (None, 14, 14, 256)  0           conv4_block2_1_bn[0][0]          \n",
            "__________________________________________________________________________________________________\n",
            "conv4_block2_2_conv (Conv2D)    (None, 14, 14, 256)  590080      conv4_block2_1_relu[0][0]        \n",
            "__________________________________________________________________________________________________\n",
            "conv4_block2_2_bn (BatchNormali (None, 14, 14, 256)  1024        conv4_block2_2_conv[0][0]        \n",
            "__________________________________________________________________________________________________\n",
            "conv4_block2_2_relu (Activation (None, 14, 14, 256)  0           conv4_block2_2_bn[0][0]          \n",
            "__________________________________________________________________________________________________\n",
            "conv4_block2_3_conv (Conv2D)    (None, 14, 14, 1024) 263168      conv4_block2_2_relu[0][0]        \n",
            "__________________________________________________________________________________________________\n",
            "conv4_block2_3_bn (BatchNormali (None, 14, 14, 1024) 4096        conv4_block2_3_conv[0][0]        \n",
            "__________________________________________________________________________________________________\n",
            "conv4_block2_add (Add)          (None, 14, 14, 1024) 0           conv4_block1_out[0][0]           \n",
            "                                                                 conv4_block2_3_bn[0][0]          \n",
            "__________________________________________________________________________________________________\n",
            "conv4_block2_out (Activation)   (None, 14, 14, 1024) 0           conv4_block2_add[0][0]           \n",
            "__________________________________________________________________________________________________\n",
            "conv4_block3_1_conv (Conv2D)    (None, 14, 14, 256)  262400      conv4_block2_out[0][0]           \n",
            "__________________________________________________________________________________________________\n",
            "conv4_block3_1_bn (BatchNormali (None, 14, 14, 256)  1024        conv4_block3_1_conv[0][0]        \n",
            "__________________________________________________________________________________________________\n",
            "conv4_block3_1_relu (Activation (None, 14, 14, 256)  0           conv4_block3_1_bn[0][0]          \n",
            "__________________________________________________________________________________________________\n",
            "conv4_block3_2_conv (Conv2D)    (None, 14, 14, 256)  590080      conv4_block3_1_relu[0][0]        \n",
            "__________________________________________________________________________________________________\n",
            "conv4_block3_2_bn (BatchNormali (None, 14, 14, 256)  1024        conv4_block3_2_conv[0][0]        \n",
            "__________________________________________________________________________________________________\n",
            "conv4_block3_2_relu (Activation (None, 14, 14, 256)  0           conv4_block3_2_bn[0][0]          \n",
            "__________________________________________________________________________________________________\n",
            "conv4_block3_3_conv (Conv2D)    (None, 14, 14, 1024) 263168      conv4_block3_2_relu[0][0]        \n",
            "__________________________________________________________________________________________________\n",
            "conv4_block3_3_bn (BatchNormali (None, 14, 14, 1024) 4096        conv4_block3_3_conv[0][0]        \n",
            "__________________________________________________________________________________________________\n",
            "conv4_block3_add (Add)          (None, 14, 14, 1024) 0           conv4_block2_out[0][0]           \n",
            "                                                                 conv4_block3_3_bn[0][0]          \n",
            "__________________________________________________________________________________________________\n",
            "conv4_block3_out (Activation)   (None, 14, 14, 1024) 0           conv4_block3_add[0][0]           \n",
            "__________________________________________________________________________________________________\n",
            "conv4_block4_1_conv (Conv2D)    (None, 14, 14, 256)  262400      conv4_block3_out[0][0]           \n",
            "__________________________________________________________________________________________________\n",
            "conv4_block4_1_bn (BatchNormali (None, 14, 14, 256)  1024        conv4_block4_1_conv[0][0]        \n",
            "__________________________________________________________________________________________________\n",
            "conv4_block4_1_relu (Activation (None, 14, 14, 256)  0           conv4_block4_1_bn[0][0]          \n",
            "__________________________________________________________________________________________________\n",
            "conv4_block4_2_conv (Conv2D)    (None, 14, 14, 256)  590080      conv4_block4_1_relu[0][0]        \n",
            "__________________________________________________________________________________________________\n",
            "conv4_block4_2_bn (BatchNormali (None, 14, 14, 256)  1024        conv4_block4_2_conv[0][0]        \n",
            "__________________________________________________________________________________________________\n",
            "conv4_block4_2_relu (Activation (None, 14, 14, 256)  0           conv4_block4_2_bn[0][0]          \n",
            "__________________________________________________________________________________________________\n",
            "conv4_block4_3_conv (Conv2D)    (None, 14, 14, 1024) 263168      conv4_block4_2_relu[0][0]        \n",
            "__________________________________________________________________________________________________\n",
            "conv4_block4_3_bn (BatchNormali (None, 14, 14, 1024) 4096        conv4_block4_3_conv[0][0]        \n",
            "__________________________________________________________________________________________________\n",
            "conv4_block4_add (Add)          (None, 14, 14, 1024) 0           conv4_block3_out[0][0]           \n",
            "                                                                 conv4_block4_3_bn[0][0]          \n",
            "__________________________________________________________________________________________________\n",
            "conv4_block4_out (Activation)   (None, 14, 14, 1024) 0           conv4_block4_add[0][0]           \n",
            "__________________________________________________________________________________________________\n",
            "conv4_block5_1_conv (Conv2D)    (None, 14, 14, 256)  262400      conv4_block4_out[0][0]           \n",
            "__________________________________________________________________________________________________\n",
            "conv4_block5_1_bn (BatchNormali (None, 14, 14, 256)  1024        conv4_block5_1_conv[0][0]        \n",
            "__________________________________________________________________________________________________\n",
            "conv4_block5_1_relu (Activation (None, 14, 14, 256)  0           conv4_block5_1_bn[0][0]          \n",
            "__________________________________________________________________________________________________\n",
            "conv4_block5_2_conv (Conv2D)    (None, 14, 14, 256)  590080      conv4_block5_1_relu[0][0]        \n",
            "__________________________________________________________________________________________________\n",
            "conv4_block5_2_bn (BatchNormali (None, 14, 14, 256)  1024        conv4_block5_2_conv[0][0]        \n",
            "__________________________________________________________________________________________________\n",
            "conv4_block5_2_relu (Activation (None, 14, 14, 256)  0           conv4_block5_2_bn[0][0]          \n",
            "__________________________________________________________________________________________________\n",
            "conv4_block5_3_conv (Conv2D)    (None, 14, 14, 1024) 263168      conv4_block5_2_relu[0][0]        \n",
            "__________________________________________________________________________________________________\n",
            "conv4_block5_3_bn (BatchNormali (None, 14, 14, 1024) 4096        conv4_block5_3_conv[0][0]        \n",
            "__________________________________________________________________________________________________\n",
            "conv4_block5_add (Add)          (None, 14, 14, 1024) 0           conv4_block4_out[0][0]           \n",
            "                                                                 conv4_block5_3_bn[0][0]          \n",
            "__________________________________________________________________________________________________\n",
            "conv4_block5_out (Activation)   (None, 14, 14, 1024) 0           conv4_block5_add[0][0]           \n",
            "__________________________________________________________________________________________________\n",
            "conv4_block6_1_conv (Conv2D)    (None, 14, 14, 256)  262400      conv4_block5_out[0][0]           \n",
            "__________________________________________________________________________________________________\n",
            "conv4_block6_1_bn (BatchNormali (None, 14, 14, 256)  1024        conv4_block6_1_conv[0][0]        \n",
            "__________________________________________________________________________________________________\n",
            "conv4_block6_1_relu (Activation (None, 14, 14, 256)  0           conv4_block6_1_bn[0][0]          \n",
            "__________________________________________________________________________________________________\n",
            "conv4_block6_2_conv (Conv2D)    (None, 14, 14, 256)  590080      conv4_block6_1_relu[0][0]        \n",
            "__________________________________________________________________________________________________\n",
            "conv4_block6_2_bn (BatchNormali (None, 14, 14, 256)  1024        conv4_block6_2_conv[0][0]        \n",
            "__________________________________________________________________________________________________\n",
            "conv4_block6_2_relu (Activation (None, 14, 14, 256)  0           conv4_block6_2_bn[0][0]          \n",
            "__________________________________________________________________________________________________\n",
            "conv4_block6_3_conv (Conv2D)    (None, 14, 14, 1024) 263168      conv4_block6_2_relu[0][0]        \n",
            "__________________________________________________________________________________________________\n",
            "conv4_block6_3_bn (BatchNormali (None, 14, 14, 1024) 4096        conv4_block6_3_conv[0][0]        \n",
            "__________________________________________________________________________________________________\n",
            "conv4_block6_add (Add)          (None, 14, 14, 1024) 0           conv4_block5_out[0][0]           \n",
            "                                                                 conv4_block6_3_bn[0][0]          \n",
            "__________________________________________________________________________________________________\n",
            "conv4_block6_out (Activation)   (None, 14, 14, 1024) 0           conv4_block6_add[0][0]           \n",
            "__________________________________________________________________________________________________\n",
            "conv5_block1_1_conv (Conv2D)    (None, 7, 7, 512)    524800      conv4_block6_out[0][0]           \n",
            "__________________________________________________________________________________________________\n",
            "conv5_block1_1_bn (BatchNormali (None, 7, 7, 512)    2048        conv5_block1_1_conv[0][0]        \n",
            "__________________________________________________________________________________________________\n",
            "conv5_block1_1_relu (Activation (None, 7, 7, 512)    0           conv5_block1_1_bn[0][0]          \n",
            "__________________________________________________________________________________________________\n",
            "conv5_block1_2_conv (Conv2D)    (None, 7, 7, 512)    2359808     conv5_block1_1_relu[0][0]        \n",
            "__________________________________________________________________________________________________\n",
            "conv5_block1_2_bn (BatchNormali (None, 7, 7, 512)    2048        conv5_block1_2_conv[0][0]        \n",
            "__________________________________________________________________________________________________\n",
            "conv5_block1_2_relu (Activation (None, 7, 7, 512)    0           conv5_block1_2_bn[0][0]          \n",
            "__________________________________________________________________________________________________\n",
            "conv5_block1_0_conv (Conv2D)    (None, 7, 7, 2048)   2099200     conv4_block6_out[0][0]           \n",
            "__________________________________________________________________________________________________\n",
            "conv5_block1_3_conv (Conv2D)    (None, 7, 7, 2048)   1050624     conv5_block1_2_relu[0][0]        \n",
            "__________________________________________________________________________________________________\n",
            "conv5_block1_0_bn (BatchNormali (None, 7, 7, 2048)   8192        conv5_block1_0_conv[0][0]        \n",
            "__________________________________________________________________________________________________\n",
            "conv5_block1_3_bn (BatchNormali (None, 7, 7, 2048)   8192        conv5_block1_3_conv[0][0]        \n",
            "__________________________________________________________________________________________________\n",
            "conv5_block1_add (Add)          (None, 7, 7, 2048)   0           conv5_block1_0_bn[0][0]          \n",
            "                                                                 conv5_block1_3_bn[0][0]          \n",
            "__________________________________________________________________________________________________\n",
            "conv5_block1_out (Activation)   (None, 7, 7, 2048)   0           conv5_block1_add[0][0]           \n",
            "__________________________________________________________________________________________________\n",
            "conv5_block2_1_conv (Conv2D)    (None, 7, 7, 512)    1049088     conv5_block1_out[0][0]           \n",
            "__________________________________________________________________________________________________\n",
            "conv5_block2_1_bn (BatchNormali (None, 7, 7, 512)    2048        conv5_block2_1_conv[0][0]        \n",
            "__________________________________________________________________________________________________\n",
            "conv5_block2_1_relu (Activation (None, 7, 7, 512)    0           conv5_block2_1_bn[0][0]          \n",
            "__________________________________________________________________________________________________\n",
            "conv5_block2_2_conv (Conv2D)    (None, 7, 7, 512)    2359808     conv5_block2_1_relu[0][0]        \n",
            "__________________________________________________________________________________________________\n",
            "conv5_block2_2_bn (BatchNormali (None, 7, 7, 512)    2048        conv5_block2_2_conv[0][0]        \n",
            "__________________________________________________________________________________________________\n",
            "conv5_block2_2_relu (Activation (None, 7, 7, 512)    0           conv5_block2_2_bn[0][0]          \n",
            "__________________________________________________________________________________________________\n",
            "conv5_block2_3_conv (Conv2D)    (None, 7, 7, 2048)   1050624     conv5_block2_2_relu[0][0]        \n",
            "__________________________________________________________________________________________________\n",
            "conv5_block2_3_bn (BatchNormali (None, 7, 7, 2048)   8192        conv5_block2_3_conv[0][0]        \n",
            "__________________________________________________________________________________________________\n",
            "conv5_block2_add (Add)          (None, 7, 7, 2048)   0           conv5_block1_out[0][0]           \n",
            "                                                                 conv5_block2_3_bn[0][0]          \n",
            "__________________________________________________________________________________________________\n",
            "conv5_block2_out (Activation)   (None, 7, 7, 2048)   0           conv5_block2_add[0][0]           \n",
            "__________________________________________________________________________________________________\n",
            "conv5_block3_1_conv (Conv2D)    (None, 7, 7, 512)    1049088     conv5_block2_out[0][0]           \n",
            "__________________________________________________________________________________________________\n",
            "conv5_block3_1_bn (BatchNormali (None, 7, 7, 512)    2048        conv5_block3_1_conv[0][0]        \n",
            "__________________________________________________________________________________________________\n",
            "conv5_block3_1_relu (Activation (None, 7, 7, 512)    0           conv5_block3_1_bn[0][0]          \n",
            "__________________________________________________________________________________________________\n",
            "conv5_block3_2_conv (Conv2D)    (None, 7, 7, 512)    2359808     conv5_block3_1_relu[0][0]        \n",
            "__________________________________________________________________________________________________\n",
            "conv5_block3_2_bn (BatchNormali (None, 7, 7, 512)    2048        conv5_block3_2_conv[0][0]        \n",
            "__________________________________________________________________________________________________\n",
            "conv5_block3_2_relu (Activation (None, 7, 7, 512)    0           conv5_block3_2_bn[0][0]          \n",
            "__________________________________________________________________________________________________\n",
            "conv5_block3_3_conv (Conv2D)    (None, 7, 7, 2048)   1050624     conv5_block3_2_relu[0][0]        \n",
            "__________________________________________________________________________________________________\n",
            "conv5_block3_3_bn (BatchNormali (None, 7, 7, 2048)   8192        conv5_block3_3_conv[0][0]        \n",
            "__________________________________________________________________________________________________\n",
            "conv5_block3_add (Add)          (None, 7, 7, 2048)   0           conv5_block2_out[0][0]           \n",
            "                                                                 conv5_block3_3_bn[0][0]          \n",
            "__________________________________________________________________________________________________\n",
            "conv5_block3_out (Activation)   (None, 7, 7, 2048)   0           conv5_block3_add[0][0]           \n",
            "__________________________________________________________________________________________________\n",
            "flatten_1 (Flatten)             (None, 100352)       0           conv5_block3_out[0][0]           \n",
            "__________________________________________________________________________________________________\n",
            "dense_4 (Dense)                 (None, 216)          21676248    flatten_1[0][0]                  \n",
            "__________________________________________________________________________________________________\n",
            "dropout_2 (Dropout)             (None, 216)          0           dense_4[0][0]                    \n",
            "__________________________________________________________________________________________________\n",
            "dense_5 (Dense)                 (None, 128)          27776       dropout_2[0][0]                  \n",
            "__________________________________________________________________________________________________\n",
            "dropout_3 (Dropout)             (None, 128)          0           dense_5[0][0]                    \n",
            "__________________________________________________________________________________________________\n",
            "dense_6 (Dense)                 (None, 64)           8256        dropout_3[0][0]                  \n",
            "__________________________________________________________________________________________________\n",
            "dense_7 (Dense)                 (None, 1)            65          dense_6[0][0]                    \n",
            "==================================================================================================\n",
            "Total params: 45,300,057\n",
            "Trainable params: 21,712,345\n",
            "Non-trainable params: 23,587,712\n",
            "__________________________________________________________________________________________________\n"
          ]
        }
      ]
    },
    {
      "cell_type": "code",
      "metadata": {
        "colab": {
          "base_uri": "https://localhost:8080/"
        },
        "id": "hQBdZKWH7qh2",
        "outputId": "ac05cb8d-d949-45cc-edb8-6d7b17f21d99"
      },
      "source": [
        "from tensorflow.keras.callbacks import *\n",
        "\n",
        "filepath = '/content/gdrive/MyDrive/cs2/data/model2/img_only/model2_img_only.hdf5'\n",
        "checkpoint = ModelCheckpoint(filepath=filepath, monitor='val_binary_accuracy', verbose=1,save_best_only=True, mode='auto', save_freq='epoch')\n",
        "reduce_lr = ReduceLROnPlateau(monitor='val_loss', factor=0.3, patience=2)\n",
        "\n",
        "optimizer = tf.keras.optimizers.Adam(learning_rate=0.0001, beta_1=0.9, beta_2=0.999, epsilon=1e-07)\n",
        "model_2.compile(loss='binary_crossentropy', optimizer = optimizer, metrics=[tf.keras.metrics.BinaryAccuracy()])\n",
        "\n",
        "hstry_2 = model_2.fit(img_train_gen,epochs=10, validation_data=img_cv_gen, batch_size=8, \n",
        "          callbacks=[checkpoint, reduce_lr])"
      ],
      "execution_count": null,
      "outputs": [
        {
          "output_type": "stream",
          "name": "stdout",
          "text": [
            "Epoch 1/10\n",
            "57/57 [==============================] - 289s 4s/step - loss: 0.5679 - binary_accuracy: 0.8295 - val_loss: 0.3984 - val_binary_accuracy: 0.9245\n",
            "\n",
            "Epoch 00001: val_binary_accuracy improved from -inf to 0.92449, saving model to /content/gdrive/MyDrive/cs2/data/model2/img_only/model2_img_only.hdf5\n",
            "Epoch 2/10\n",
            "57/57 [==============================] - 30s 533ms/step - loss: 0.3878 - binary_accuracy: 0.8746 - val_loss: 0.2665 - val_binary_accuracy: 0.9245\n",
            "\n",
            "Epoch 00002: val_binary_accuracy did not improve from 0.92449\n",
            "Epoch 3/10\n",
            "57/57 [==============================] - 28s 496ms/step - loss: 0.3586 - binary_accuracy: 0.8922 - val_loss: 0.2716 - val_binary_accuracy: 0.9245\n",
            "\n",
            "Epoch 00003: val_binary_accuracy did not improve from 0.92449\n",
            "Epoch 4/10\n",
            "57/57 [==============================] - 28s 500ms/step - loss: 0.3143 - binary_accuracy: 0.9131 - val_loss: 0.3165 - val_binary_accuracy: 0.9245\n",
            "\n",
            "Epoch 00004: val_binary_accuracy did not improve from 0.92449\n",
            "Epoch 5/10\n",
            "57/57 [==============================] - 28s 500ms/step - loss: 0.3329 - binary_accuracy: 0.9175 - val_loss: 0.2775 - val_binary_accuracy: 0.9245\n",
            "\n",
            "Epoch 00005: val_binary_accuracy did not improve from 0.92449\n",
            "Epoch 6/10\n",
            "57/57 [==============================] - 29s 511ms/step - loss: 0.2867 - binary_accuracy: 0.9219 - val_loss: 0.2937 - val_binary_accuracy: 0.9245\n",
            "\n",
            "Epoch 00006: val_binary_accuracy did not improve from 0.92449\n",
            "Epoch 7/10\n",
            "57/57 [==============================] - 29s 505ms/step - loss: 0.3274 - binary_accuracy: 0.9230 - val_loss: 0.2768 - val_binary_accuracy: 0.9245\n",
            "\n",
            "Epoch 00007: val_binary_accuracy did not improve from 0.92449\n",
            "Epoch 8/10\n",
            "57/57 [==============================] - 29s 517ms/step - loss: 0.3098 - binary_accuracy: 0.9252 - val_loss: 0.2745 - val_binary_accuracy: 0.9245\n",
            "\n",
            "Epoch 00008: val_binary_accuracy did not improve from 0.92449\n",
            "Epoch 9/10\n",
            "57/57 [==============================] - 29s 504ms/step - loss: 0.3150 - binary_accuracy: 0.9252 - val_loss: 0.2775 - val_binary_accuracy: 0.9245\n",
            "\n",
            "Epoch 00009: val_binary_accuracy did not improve from 0.92449\n",
            "Epoch 10/10\n",
            "57/57 [==============================] - 29s 505ms/step - loss: 0.2948 - binary_accuracy: 0.9307 - val_loss: 0.2752 - val_binary_accuracy: 0.9245\n",
            "\n",
            "Epoch 00010: val_binary_accuracy did not improve from 0.92449\n"
          ]
        }
      ]
    },
    {
      "cell_type": "code",
      "metadata": {
        "colab": {
          "base_uri": "https://localhost:8080/"
        },
        "id": "-vHwmR2L7qiF",
        "outputId": "6b6e3fcf-06d2-4434-a730-68a6a61b7fc2"
      },
      "source": [
        "score = model_2.evaluate(img_cv_gen, verbose=1, batch_size=64)"
      ],
      "execution_count": null,
      "outputs": [
        {
          "output_type": "stream",
          "name": "stdout",
          "text": [
            "31/31 [==============================] - 10s 315ms/step - loss: 0.2709 - binary_accuracy: 0.9245\n"
          ]
        }
      ]
    },
    {
      "cell_type": "code",
      "metadata": {
        "colab": {
          "base_uri": "https://localhost:8080/"
        },
        "id": "prDdLBA67qiG",
        "outputId": "c2e74656-da47-4a83-f448-3085ce1707ac"
      },
      "source": [
        "y_pred_0 = model_2.predict(img_cv_gen, batch_size=64)\n",
        "preds_0 = (model_2.predict(img_cv_gen)>0.5).astype(\"int32\")\n",
        "metrics(cv['Condition'], preds_0)"
      ],
      "execution_count": null,
      "outputs": [
        {
          "output_type": "stream",
          "name": "stdout",
          "text": [
            "Recall micro      :  0.9244897959183673\n",
            "Precision micro   :  0.9244897959183673\n",
            "Fl score micro    :  0.9244897959183674\n"
          ]
        }
      ]
    },
    {
      "cell_type": "markdown",
      "metadata": {
        "id": "NKvgqED3QuZ0"
      },
      "source": [
        "**OBSERVATION**\n",
        "\n",
        "1. having only that class which is damage, as it is only we have predict the details about."
      ]
    },
    {
      "cell_type": "code",
      "metadata": {
        "id": "XmaWD3Io7qiH"
      },
      "source": [
        "test_condition_model_2 = test_pred_cond(model_2, img_test_gen, test_data_f)\n",
        "test_condition_model_2.to_csv('/content/gdrive/MyDrive/cs2/data/model2/img_only/test_condition_model_2.csv')"
      ],
      "execution_count": null,
      "outputs": []
    },
    {
      "cell_type": "code",
      "metadata": {
        "colab": {
          "base_uri": "https://localhost:8080/",
          "height": 350
        },
        "id": "3jXFOrsT7qiH",
        "outputId": "a4e2a5c9-d4ed-436c-c043-341d13aca35e"
      },
      "source": [
        "#import matplotlib.pyplot as plt\n",
        "\n",
        "def plot_los():\n",
        "  fig = plt.figure(figsize=(15, 5)).patch.set_facecolor('silver')\n",
        "  plt.subplot(121)\n",
        "\n",
        "  plt.plot(hstry_2.history['binary_accuracy'])\n",
        "  plt.plot(hstry_2.history['val_binary_accuracy'])\n",
        "  plt.title('model binary accuracy')\n",
        "  plt.ylabel('accuracy')\n",
        "  plt.xlabel('epoch')\n",
        "  plt.legend(['train','test'], loc='upper left')\n",
        "  \n",
        "  plt.subplot(122)\n",
        "  plt.plot(hstry_2.history['loss'])\n",
        "  plt.plot(hstry_2.history['val_loss'])\n",
        "\n",
        "  plt.title('model binary loss')\n",
        "  plt.ylabel('loss')\n",
        "  plt.xlabel('epoch')\n",
        "  plt.legend(['train','test'], loc='upper left')\n",
        "  plt.show()\n",
        "\n",
        "plot_los()"
      ],
      "execution_count": null,
      "outputs": [
        {
          "output_type": "display_data",
          "data": {
            "image/png": "[encoded data removed]",
            "text/plain": [
              "<Figure size 1080x360 with 2 Axes>"
            ]
          },
          "metadata": {}
        }
      ]
    },
    {
      "cell_type": "markdown",
      "metadata": {
        "id": "QhEIvUGBQ2A9"
      },
      "source": [
        "**OBSERVATION**\n",
        "\n",
        "1. from the loss curve, initially in epoch loss curve training loss is higher than validation loss that means underftting, which is quite evident as it is starting stage, but at epoch 3,5, validation loss (here test loss) is more or less equal to training loss indicates model as it is the balance we are looking for.\n",
        "\n",
        "2. in binary accuracy plot training accuracy is increasing but test accuracy is constant because whaterever model learns it apllies on test set there is no new to learn from test data perspective, due to test set is limited with similar nature of condition (more damage), and repeatative similar images (i.e less variation in image data), this nature of graph occurs. \n",
        "\n",
        "3. try to overcome above limitation (point 2) with oversampling of inferior class, or using cars dataset, in version 2.0 of this case study."
      ]
    },
    {
      "cell_type": "code",
      "metadata": {
        "id": "w-r2Q3Ji7qiI"
      },
      "source": [
        "model_2.save('/content/gdrive/MyDrive/cs2/data/model2/model2_deepl.h5')"
      ],
      "execution_count": null,
      "outputs": []
    },
    {
      "cell_type": "markdown",
      "metadata": {
        "id": "VQ-v7Qde_bwl"
      },
      "source": [
        "##transfer learning "
      ]
    },
    {
      "cell_type": "code",
      "metadata": {
        "colab": {
          "base_uri": "https://localhost:8080/"
        },
        "id": "nZwnf1Ik_bwm",
        "outputId": "db8b7102-e2e3-4f51-c0ed-63a0c26d989b"
      },
      "source": [
        "from tensorflow.keras.callbacks import *\n",
        "\n",
        "filepath = '/content/gdrive/MyDrive/cs2/data/model2/transfer_lrng/model2_transfer.hdf5'\n",
        "checkpoint = ModelCheckpoint(filepath=filepath, monitor='val_binary_accuracy', verbose=1,save_best_only=True, mode='auto', save_freq='epoch')\n",
        "reduce_lr = ReduceLROnPlateau(monitor='val_loss', factor=0.3, patience=3, min_lr=0.000001)\n",
        "\n",
        "optimizer = tf.keras.optimizers.Adam(learning_rate=0.001, beta_1=0.9, beta_2=0.999, epsilon=1e-07)\n",
        "model_2_transfer_lrng.compile(loss='binary_crossentropy', optimizer = optimizer, metrics=[tf.keras.metrics.BinaryAccuracy()])\n",
        "\n",
        "hstry_2_transfer_lrng = model_2_transfer_lrng.fit(img_train_gen,epochs=10, validation_data=img_cv_gen, batch_size=16, \n",
        "          callbacks=[checkpoint, reduce_lr])"
      ],
      "execution_count": null,
      "outputs": [
        {
          "output_type": "stream",
          "name": "stdout",
          "text": [
            "Epoch 1/10\n",
            "57/57 [==============================] - 35s 548ms/step - loss: 5.8424 - binary_accuracy: 0.5766 - val_loss: 4.4181 - val_binary_accuracy: 0.6992\n",
            "\n",
            "Epoch 00001: val_binary_accuracy improved from -inf to 0.69920, saving model to /content/gdrive/MyDrive/cs2/data/model2/transfer_lrng/model2_transfer.hdf5\n",
            "Epoch 2/10\n",
            "57/57 [==============================] - 31s 536ms/step - loss: 3.6260 - binary_accuracy: 0.7117 - val_loss: 2.3804 - val_binary_accuracy: 0.8449\n",
            "\n",
            "Epoch 00002: val_binary_accuracy improved from 0.69920 to 0.84490, saving model to /content/gdrive/MyDrive/cs2/data/model2/transfer_lrng/model2_transfer.hdf5\n",
            "Epoch 3/10\n",
            "57/57 [==============================] - 31s 536ms/step - loss: 2.6238 - binary_accuracy: 0.7563 - val_loss: 1.5611 - val_binary_accuracy: 0.8980\n",
            "\n",
            "Epoch 00003: val_binary_accuracy improved from 0.84490 to 0.89796, saving model to /content/gdrive/MyDrive/cs2/data/model2/transfer_lrng/model2_transfer.hdf5\n",
            "Epoch 4/10\n",
            "57/57 [==============================] - 30s 535ms/step - loss: 2.0257 - binary_accuracy: 0.7834 - val_loss: 1.3563 - val_binary_accuracy: 0.9112\n",
            "\n",
            "Epoch 00004: val_binary_accuracy improved from 0.89796 to 0.91122, saving model to /content/gdrive/MyDrive/cs2/data/model2/transfer_lrng/model2_transfer.hdf5\n",
            "Epoch 5/10\n",
            "57/57 [==============================] - 30s 535ms/step - loss: 1.7360 - binary_accuracy: 0.7764 - val_loss: 1.3563 - val_binary_accuracy: 0.9112\n",
            "\n",
            "Epoch 00005: val_binary_accuracy did not improve from 0.91122\n",
            "Epoch 6/10\n",
            "57/57 [==============================] - 29s 503ms/step - loss: 1.5467 - binary_accuracy: 0.7662 - val_loss: 1.3563 - val_binary_accuracy: 0.9112\n",
            "\n",
            "Epoch 00006: val_binary_accuracy did not improve from 0.91122\n",
            "Epoch 7/10\n",
            "57/57 [==============================] - 29s 505ms/step - loss: 1.3569 - binary_accuracy: 0.8352 - val_loss: 1.1515 - val_binary_accuracy: 0.9245\n",
            "\n",
            "Epoch 00007: val_binary_accuracy improved from 0.91122 to 0.92449, saving model to /content/gdrive/MyDrive/cs2/data/model2/transfer_lrng/model2_transfer.hdf5\n",
            "Epoch 8/10\n",
            "57/57 [==============================] - 30s 533ms/step - loss: 1.1941 - binary_accuracy: 0.8648 - val_loss: 1.1515 - val_binary_accuracy: 0.9245\n",
            "\n",
            "Epoch 00008: val_binary_accuracy did not improve from 0.92449\n",
            "Epoch 9/10\n",
            "57/57 [==============================] - 29s 508ms/step - loss: 1.1333 - binary_accuracy: 0.8918 - val_loss: 1.1515 - val_binary_accuracy: 0.9245\n",
            "\n",
            "Epoch 00009: val_binary_accuracy did not improve from 0.92449\n",
            "Epoch 10/10\n",
            "57/57 [==============================] - 29s 508ms/step - loss: 1.0812 - binary_accuracy: 0.9039 - val_loss: 1.1515 - val_binary_accuracy: 0.9245\n",
            "\n",
            "Epoch 00010: val_binary_accuracy did not improve from 0.92449\n"
          ]
        }
      ]
    },
    {
      "cell_type": "code",
      "metadata": {
        "colab": {
          "base_uri": "https://localhost:8080/",
          "height": 350
        },
        "id": "BKBUQd5d_bwn",
        "outputId": "ea807062-8e89-4808-d486-28ca8dc8b203"
      },
      "source": [
        "#import matplotlib.pyplot as plt\n",
        "\n",
        "def plot_los():\n",
        "  fig = plt.figure(figsize=(15, 5)).patch.set_facecolor('silver')\n",
        "  plt.subplot(121)\n",
        "\n",
        "  plt.plot(hstry_2_transfer_lrng.history['binary_accuracy'])\n",
        "  plt.plot(hstry_2_transfer_lrng.history['val_binary_accuracy'])\n",
        "  plt.title('model binary accuracy')\n",
        "  plt.ylabel('accuracy')\n",
        "  plt.xlabel('epoch')\n",
        "  plt.legend(['train','test'], loc='upper left')\n",
        "  \n",
        "  plt.subplot(122)\n",
        "  plt.plot(hstry_2_transfer_lrng.history['loss'])\n",
        "  plt.plot(hstry_2_transfer_lrng.history['val_loss'])\n",
        "\n",
        "  plt.title('model binary loss')\n",
        "  plt.ylabel('loss')\n",
        "  plt.xlabel('epoch')\n",
        "  plt.legend(['train','test'], loc='upper left')\n",
        "  plt.show()\n",
        "\n",
        "plot_los()"
      ],
      "execution_count": null,
      "outputs": [
        {
          "output_type": "display_data",
          "data": {
            "image/png": "[encoded data removed]",
            "text/plain": [
              "<Figure size 1080x360 with 2 Axes>"
            ]
          },
          "metadata": {}
        }
      ]
    },
    {
      "cell_type": "markdown",
      "metadata": {
        "id": "PZzf-VEpRYX3"
      },
      "source": [
        "**OBSERVATION**\n",
        "\n",
        "1. from the loss curve, initially in epoch loss curve training loss is higher than validation loss that means underftting, which is quite evident as it is starting stage, but after epoch 7, validation loss is slightly more than training loss indicates model will overfit after this, at epoch 8 as it is the balance we are looking for.\n",
        "\n",
        "2. in binary accuracy plot training accuracy is increasing, test accuracy is also increasing whatever model is learning able to apply well on test data, it can be more iterated for more convergence.\n"
      ]
    },
    {
      "cell_type": "code",
      "metadata": {
        "id": "m22uRVhU_bwn"
      },
      "source": [
        "model_2_transfer_lrng.save('/content/gdrive/MyDrive/cs2/data/model2/transfer_lrng/model2_transfer_learning.h5')"
      ],
      "execution_count": null,
      "outputs": []
    },
    {
      "cell_type": "code",
      "metadata": {
        "id": "Ktv8icZH_bwo"
      },
      "source": [
        "def get_embedd(model, generator, generator_1, generator_2, batch): \n",
        "    \n",
        "    '''takes input of model : vgg-19/resnet/mobilenet/custom respectively in subsequent stages,\n",
        "      generator, generator_1, generator_2 : image datagen for tain,test,cv\n",
        "      batch   :  batch size (int)\n",
        "      returns :  dataframe of train and test having transfer weights'''\n",
        "\n",
        "    y_pred = model.predict(generator, batch)\n",
        "    df = pd.DataFrame(y_pred)\n",
        "    test_condition_model_1_tf = test_data_f.copy()\n",
        "    test_condition_model_1_tf = pd.concat([test_condition_model_2, df], axis=1, join='inner')\n",
        "    test_condition_model_1_tf.to_csv('/content/gdrive/MyDrive/cs2/data/model2/transfer_lrng/test_model_2_transfer_learning.csv')\n",
        "\n",
        "    y_pred_tr = model.predict(generator_1, batch)\n",
        "    y_pred_cv = model.predict(generator_2, batch)\n",
        "    kd0 = pd.concat([train, cv], axis=0)\n",
        "    kd0.reset_index(inplace=True)\n",
        "    print(kd0.shape)\n",
        "    kd1 = pd.concat([pd.DataFrame(y_pred_tr), pd.DataFrame(y_pred_cv)], axis=0)\n",
        "    kd1.reset_index(inplace=True)\n",
        "    print(kd1.shape)\n",
        "    kd_ = pd.concat([kd0,kd1], axis=1)\n",
        "    kd_.to_csv('/content/gdrive/MyDrive/cs2/data/model2/transfer_lrng/train_model_2_transfer_learning.csv')\n",
        "\n",
        "    return test_condition_model_1_tf, kd_\n"
      ],
      "execution_count": null,
      "outputs": []
    },
    {
      "cell_type": "code",
      "metadata": {
        "colab": {
          "base_uri": "https://localhost:8080/"
        },
        "id": "b1Rq4zIM_bwo",
        "outputId": "ebc1901c-7321-42c9-9ca3-78e903cea252"
      },
      "source": [
        "#_,train_transfer_wt = get_embedd(model_1_transfer_lrng, img_train_gen, img_cv_gen, 16, train=True)\n",
        "test_transfer_wt, train_transfer_wt = get_embedd(model_2_transfer_lrng, img_test_gen, img_train_gen, img_cv_gen, 16)#, train=False)"
      ],
      "execution_count": null,
      "outputs": [
        {
          "output_type": "stream",
          "name": "stdout",
          "text": [
            "(1399, 26)\n",
            "(1399, 65)\n"
          ]
        }
      ]
    },
    {
      "cell_type": "markdown",
      "metadata": {
        "id": "DAPf1Ir3Cn8_"
      },
      "source": [
        "# Mobile Net"
      ]
    },
    {
      "cell_type": "code",
      "metadata": {
        "id": "A_ip2Mh6C3ul"
      },
      "source": [
        "base_mobilenet = tf.keras.applications.MobileNet(weights='imagenet',include_top=False, input_shape=(224,224,3))"
      ],
      "execution_count": null,
      "outputs": []
    },
    {
      "cell_type": "code",
      "metadata": {
        "colab": {
          "base_uri": "https://localhost:8080/"
        },
        "id": "unGeBPmKC3um",
        "outputId": "fa55fdb9-ef97-4b83-8e63-19007fc59bed"
      },
      "source": [
        "for layer in base_mobilenet.layers[:86]:      ##for sake of checking\n",
        "  layer.trainable = False\n",
        "for i,layer in enumerate(base_mobilenet.layers):\n",
        "  print(i, layer.name, layer.trainable)                     \n"
      ],
      "execution_count": null,
      "outputs": [
        {
          "output_type": "stream",
          "name": "stdout",
          "text": [
            "0 input_6 False\n",
            "1 conv1 False\n",
            "2 conv1_bn False\n",
            "3 conv1_relu False\n",
            "4 conv_dw_1 False\n",
            "5 conv_dw_1_bn False\n",
            "6 conv_dw_1_relu False\n",
            "7 conv_pw_1 False\n",
            "8 conv_pw_1_bn False\n",
            "9 conv_pw_1_relu False\n",
            "10 conv_pad_2 False\n",
            "11 conv_dw_2 False\n",
            "12 conv_dw_2_bn False\n",
            "13 conv_dw_2_relu False\n",
            "14 conv_pw_2 False\n",
            "15 conv_pw_2_bn False\n",
            "16 conv_pw_2_relu False\n",
            "17 conv_dw_3 False\n",
            "18 conv_dw_3_bn False\n",
            "19 conv_dw_3_relu False\n",
            "20 conv_pw_3 False\n",
            "21 conv_pw_3_bn False\n",
            "22 conv_pw_3_relu False\n",
            "23 conv_pad_4 False\n",
            "24 conv_dw_4 False\n",
            "25 conv_dw_4_bn False\n",
            "26 conv_dw_4_relu False\n",
            "27 conv_pw_4 False\n",
            "28 conv_pw_4_bn False\n",
            "29 conv_pw_4_relu False\n",
            "30 conv_dw_5 False\n",
            "31 conv_dw_5_bn False\n",
            "32 conv_dw_5_relu False\n",
            "33 conv_pw_5 False\n",
            "34 conv_pw_5_bn False\n",
            "35 conv_pw_5_relu False\n",
            "36 conv_pad_6 False\n",
            "37 conv_dw_6 False\n",
            "38 conv_dw_6_bn False\n",
            "39 conv_dw_6_relu False\n",
            "40 conv_pw_6 False\n",
            "41 conv_pw_6_bn False\n",
            "42 conv_pw_6_relu False\n",
            "43 conv_dw_7 False\n",
            "44 conv_dw_7_bn False\n",
            "45 conv_dw_7_relu False\n",
            "46 conv_pw_7 False\n",
            "47 conv_pw_7_bn False\n",
            "48 conv_pw_7_relu False\n",
            "49 conv_dw_8 False\n",
            "50 conv_dw_8_bn False\n",
            "51 conv_dw_8_relu False\n",
            "52 conv_pw_8 False\n",
            "53 conv_pw_8_bn False\n",
            "54 conv_pw_8_relu False\n",
            "55 conv_dw_9 False\n",
            "56 conv_dw_9_bn False\n",
            "57 conv_dw_9_relu False\n",
            "58 conv_pw_9 False\n",
            "59 conv_pw_9_bn False\n",
            "60 conv_pw_9_relu False\n",
            "61 conv_dw_10 False\n",
            "62 conv_dw_10_bn False\n",
            "63 conv_dw_10_relu False\n",
            "64 conv_pw_10 False\n",
            "65 conv_pw_10_bn False\n",
            "66 conv_pw_10_relu False\n",
            "67 conv_dw_11 False\n",
            "68 conv_dw_11_bn False\n",
            "69 conv_dw_11_relu False\n",
            "70 conv_pw_11 False\n",
            "71 conv_pw_11_bn False\n",
            "72 conv_pw_11_relu False\n",
            "73 conv_pad_12 False\n",
            "74 conv_dw_12 False\n",
            "75 conv_dw_12_bn False\n",
            "76 conv_dw_12_relu False\n",
            "77 conv_pw_12 False\n",
            "78 conv_pw_12_bn False\n",
            "79 conv_pw_12_relu False\n",
            "80 conv_dw_13 False\n",
            "81 conv_dw_13_bn False\n",
            "82 conv_dw_13_relu False\n",
            "83 conv_pw_13 False\n",
            "84 conv_pw_13_bn False\n",
            "85 conv_pw_13_relu False\n"
          ]
        }
      ]
    },
    {
      "cell_type": "code",
      "metadata": {
        "colab": {
          "base_uri": "https://localhost:8080/"
        },
        "id": "k0FqHy_MDZ2i",
        "outputId": "7543fcd3-61bb-4e3d-e812-e1266a58758e"
      },
      "source": [
        "model_3, model_3_transfer_lrng = final_model(base_mobilenet)"
      ],
      "execution_count": null,
      "outputs": [
        {
          "output_type": "stream",
          "name": "stdout",
          "text": [
            "Model: \"model_4\"\n",
            "_________________________________________________________________\n",
            "Layer (type)                 Output Shape              Param #   \n",
            "=================================================================\n",
            "input_6 (InputLayer)         [(None, 224, 224, 3)]     0         \n",
            "_________________________________________________________________\n",
            "conv1 (Conv2D)               (None, 112, 112, 32)      864       \n",
            "_________________________________________________________________\n",
            "conv1_bn (BatchNormalization (None, 112, 112, 32)      128       \n",
            "_________________________________________________________________\n",
            "conv1_relu (ReLU)            (None, 112, 112, 32)      0         \n",
            "_________________________________________________________________\n",
            "conv_dw_1 (DepthwiseConv2D)  (None, 112, 112, 32)      288       \n",
            "_________________________________________________________________\n",
            "conv_dw_1_bn (BatchNormaliza (None, 112, 112, 32)      128       \n",
            "_________________________________________________________________\n",
            "conv_dw_1_relu (ReLU)        (None, 112, 112, 32)      0         \n",
            "_________________________________________________________________\n",
            "conv_pw_1 (Conv2D)           (None, 112, 112, 64)      2048      \n",
            "_________________________________________________________________\n",
            "conv_pw_1_bn (BatchNormaliza (None, 112, 112, 64)      256       \n",
            "_________________________________________________________________\n",
            "conv_pw_1_relu (ReLU)        (None, 112, 112, 64)      0         \n",
            "_________________________________________________________________\n",
            "conv_pad_2 (ZeroPadding2D)   (None, 113, 113, 64)      0         \n",
            "_________________________________________________________________\n",
            "conv_dw_2 (DepthwiseConv2D)  (None, 56, 56, 64)        576       \n",
            "_________________________________________________________________\n",
            "conv_dw_2_bn (BatchNormaliza (None, 56, 56, 64)        256       \n",
            "_________________________________________________________________\n",
            "conv_dw_2_relu (ReLU)        (None, 56, 56, 64)        0         \n",
            "_________________________________________________________________\n",
            "conv_pw_2 (Conv2D)           (None, 56, 56, 128)       8192      \n",
            "_________________________________________________________________\n",
            "conv_pw_2_bn (BatchNormaliza (None, 56, 56, 128)       512       \n",
            "_________________________________________________________________\n",
            "conv_pw_2_relu (ReLU)        (None, 56, 56, 128)       0         \n",
            "_________________________________________________________________\n",
            "conv_dw_3 (DepthwiseConv2D)  (None, 56, 56, 128)       1152      \n",
            "_________________________________________________________________\n",
            "conv_dw_3_bn (BatchNormaliza (None, 56, 56, 128)       512       \n",
            "_________________________________________________________________\n",
            "conv_dw_3_relu (ReLU)        (None, 56, 56, 128)       0         \n",
            "_________________________________________________________________\n",
            "conv_pw_3 (Conv2D)           (None, 56, 56, 128)       16384     \n",
            "_________________________________________________________________\n",
            "conv_pw_3_bn (BatchNormaliza (None, 56, 56, 128)       512       \n",
            "_________________________________________________________________\n",
            "conv_pw_3_relu (ReLU)        (None, 56, 56, 128)       0         \n",
            "_________________________________________________________________\n",
            "conv_pad_4 (ZeroPadding2D)   (None, 57, 57, 128)       0         \n",
            "_________________________________________________________________\n",
            "conv_dw_4 (DepthwiseConv2D)  (None, 28, 28, 128)       1152      \n",
            "_________________________________________________________________\n",
            "conv_dw_4_bn (BatchNormaliza (None, 28, 28, 128)       512       \n",
            "_________________________________________________________________\n",
            "conv_dw_4_relu (ReLU)        (None, 28, 28, 128)       0         \n",
            "_________________________________________________________________\n",
            "conv_pw_4 (Conv2D)           (None, 28, 28, 256)       32768     \n",
            "_________________________________________________________________\n",
            "conv_pw_4_bn (BatchNormaliza (None, 28, 28, 256)       1024      \n",
            "_________________________________________________________________\n",
            "conv_pw_4_relu (ReLU)        (None, 28, 28, 256)       0         \n",
            "_________________________________________________________________\n",
            "conv_dw_5 (DepthwiseConv2D)  (None, 28, 28, 256)       2304      \n",
            "_________________________________________________________________\n",
            "conv_dw_5_bn (BatchNormaliza (None, 28, 28, 256)       1024      \n",
            "_________________________________________________________________\n",
            "conv_dw_5_relu (ReLU)        (None, 28, 28, 256)       0         \n",
            "_________________________________________________________________\n",
            "conv_pw_5 (Conv2D)           (None, 28, 28, 256)       65536     \n",
            "_________________________________________________________________\n",
            "conv_pw_5_bn (BatchNormaliza (None, 28, 28, 256)       1024      \n",
            "_________________________________________________________________\n",
            "conv_pw_5_relu (ReLU)        (None, 28, 28, 256)       0         \n",
            "_________________________________________________________________\n",
            "conv_pad_6 (ZeroPadding2D)   (None, 29, 29, 256)       0         \n",
            "_________________________________________________________________\n",
            "conv_dw_6 (DepthwiseConv2D)  (None, 14, 14, 256)       2304      \n",
            "_________________________________________________________________\n",
            "conv_dw_6_bn (BatchNormaliza (None, 14, 14, 256)       1024      \n",
            "_________________________________________________________________\n",
            "conv_dw_6_relu (ReLU)        (None, 14, 14, 256)       0         \n",
            "_________________________________________________________________\n",
            "conv_pw_6 (Conv2D)           (None, 14, 14, 512)       131072    \n",
            "_________________________________________________________________\n",
            "conv_pw_6_bn (BatchNormaliza (None, 14, 14, 512)       2048      \n",
            "_________________________________________________________________\n",
            "conv_pw_6_relu (ReLU)        (None, 14, 14, 512)       0         \n",
            "_________________________________________________________________\n",
            "conv_dw_7 (DepthwiseConv2D)  (None, 14, 14, 512)       4608      \n",
            "_________________________________________________________________\n",
            "conv_dw_7_bn (BatchNormaliza (None, 14, 14, 512)       2048      \n",
            "_________________________________________________________________\n",
            "conv_dw_7_relu (ReLU)        (None, 14, 14, 512)       0         \n",
            "_________________________________________________________________\n",
            "conv_pw_7 (Conv2D)           (None, 14, 14, 512)       262144    \n",
            "_________________________________________________________________\n",
            "conv_pw_7_bn (BatchNormaliza (None, 14, 14, 512)       2048      \n",
            "_________________________________________________________________\n",
            "conv_pw_7_relu (ReLU)        (None, 14, 14, 512)       0         \n",
            "_________________________________________________________________\n",
            "conv_dw_8 (DepthwiseConv2D)  (None, 14, 14, 512)       4608      \n",
            "_________________________________________________________________\n",
            "conv_dw_8_bn (BatchNormaliza (None, 14, 14, 512)       2048      \n",
            "_________________________________________________________________\n",
            "conv_dw_8_relu (ReLU)        (None, 14, 14, 512)       0         \n",
            "_________________________________________________________________\n",
            "conv_pw_8 (Conv2D)           (None, 14, 14, 512)       262144    \n",
            "_________________________________________________________________\n",
            "conv_pw_8_bn (BatchNormaliza (None, 14, 14, 512)       2048      \n",
            "_________________________________________________________________\n",
            "conv_pw_8_relu (ReLU)        (None, 14, 14, 512)       0         \n",
            "_________________________________________________________________\n",
            "conv_dw_9 (DepthwiseConv2D)  (None, 14, 14, 512)       4608      \n",
            "_________________________________________________________________\n",
            "conv_dw_9_bn (BatchNormaliza (None, 14, 14, 512)       2048      \n",
            "_________________________________________________________________\n",
            "conv_dw_9_relu (ReLU)        (None, 14, 14, 512)       0         \n",
            "_________________________________________________________________\n",
            "conv_pw_9 (Conv2D)           (None, 14, 14, 512)       262144    \n",
            "_________________________________________________________________\n",
            "conv_pw_9_bn (BatchNormaliza (None, 14, 14, 512)       2048      \n",
            "_________________________________________________________________\n",
            "conv_pw_9_relu (ReLU)        (None, 14, 14, 512)       0         \n",
            "_________________________________________________________________\n",
            "conv_dw_10 (DepthwiseConv2D) (None, 14, 14, 512)       4608      \n",
            "_________________________________________________________________\n",
            "conv_dw_10_bn (BatchNormaliz (None, 14, 14, 512)       2048      \n",
            "_________________________________________________________________\n",
            "conv_dw_10_relu (ReLU)       (None, 14, 14, 512)       0         \n",
            "_________________________________________________________________\n",
            "conv_pw_10 (Conv2D)          (None, 14, 14, 512)       262144    \n",
            "_________________________________________________________________\n",
            "conv_pw_10_bn (BatchNormaliz (None, 14, 14, 512)       2048      \n",
            "_________________________________________________________________\n",
            "conv_pw_10_relu (ReLU)       (None, 14, 14, 512)       0         \n",
            "_________________________________________________________________\n",
            "conv_dw_11 (DepthwiseConv2D) (None, 14, 14, 512)       4608      \n",
            "_________________________________________________________________\n",
            "conv_dw_11_bn (BatchNormaliz (None, 14, 14, 512)       2048      \n",
            "_________________________________________________________________\n",
            "conv_dw_11_relu (ReLU)       (None, 14, 14, 512)       0         \n",
            "_________________________________________________________________\n",
            "conv_pw_11 (Conv2D)          (None, 14, 14, 512)       262144    \n",
            "_________________________________________________________________\n",
            "conv_pw_11_bn (BatchNormaliz (None, 14, 14, 512)       2048      \n",
            "_________________________________________________________________\n",
            "conv_pw_11_relu (ReLU)       (None, 14, 14, 512)       0         \n",
            "_________________________________________________________________\n",
            "conv_pad_12 (ZeroPadding2D)  (None, 15, 15, 512)       0         \n",
            "_________________________________________________________________\n",
            "conv_dw_12 (DepthwiseConv2D) (None, 7, 7, 512)         4608      \n",
            "_________________________________________________________________\n",
            "conv_dw_12_bn (BatchNormaliz (None, 7, 7, 512)         2048      \n",
            "_________________________________________________________________\n",
            "conv_dw_12_relu (ReLU)       (None, 7, 7, 512)         0         \n",
            "_________________________________________________________________\n",
            "conv_pw_12 (Conv2D)          (None, 7, 7, 1024)        524288    \n",
            "_________________________________________________________________\n",
            "conv_pw_12_bn (BatchNormaliz (None, 7, 7, 1024)        4096      \n",
            "_________________________________________________________________\n",
            "conv_pw_12_relu (ReLU)       (None, 7, 7, 1024)        0         \n",
            "_________________________________________________________________\n",
            "conv_dw_13 (DepthwiseConv2D) (None, 7, 7, 1024)        9216      \n",
            "_________________________________________________________________\n",
            "conv_dw_13_bn (BatchNormaliz (None, 7, 7, 1024)        4096      \n",
            "_________________________________________________________________\n",
            "conv_dw_13_relu (ReLU)       (None, 7, 7, 1024)        0         \n",
            "_________________________________________________________________\n",
            "conv_pw_13 (Conv2D)          (None, 7, 7, 1024)        1048576   \n",
            "_________________________________________________________________\n",
            "conv_pw_13_bn (BatchNormaliz (None, 7, 7, 1024)        4096      \n",
            "_________________________________________________________________\n",
            "conv_pw_13_relu (ReLU)       (None, 7, 7, 1024)        0         \n",
            "_________________________________________________________________\n",
            "flatten_2 (Flatten)          (None, 50176)             0         \n",
            "_________________________________________________________________\n",
            "dense_8 (Dense)              (None, 216)               10838232  \n",
            "_________________________________________________________________\n",
            "dropout_4 (Dropout)          (None, 216)               0         \n",
            "_________________________________________________________________\n",
            "dense_9 (Dense)              (None, 128)               27776     \n",
            "_________________________________________________________________\n",
            "dropout_5 (Dropout)          (None, 128)               0         \n",
            "_________________________________________________________________\n",
            "dense_10 (Dense)             (None, 64)                8256      \n",
            "_________________________________________________________________\n",
            "dense_11 (Dense)             (None, 1)                 65        \n",
            "=================================================================\n",
            "Total params: 14,103,193\n",
            "Trainable params: 10,874,329\n",
            "Non-trainable params: 3,228,864\n",
            "_________________________________________________________________\n"
          ]
        }
      ]
    },
    {
      "cell_type": "code",
      "metadata": {
        "colab": {
          "base_uri": "https://localhost:8080/"
        },
        "id": "pwGNsB2rDq9U",
        "outputId": "2d0bcbcf-087d-49c2-bf37-c2534047d556"
      },
      "source": [
        "from tensorflow.keras.callbacks import *\n",
        "\n",
        "filepath = '/content/gdrive/MyDrive/cs2/data/model3/img_only/model3_img_only.hdf5'\n",
        "checkpoint = ModelCheckpoint(filepath=filepath, monitor='val_binary_accuracy', verbose=1,save_best_only=True, mode='auto', save_freq='epoch')\n",
        "reduce_lr = ReduceLROnPlateau(monitor='val_loss', factor=0.3, patience=2)\n",
        "\n",
        "optimizer = tf.keras.optimizers.Adam(learning_rate=0.0001, beta_1=0.9, beta_2=0.999, epsilon=1e-07)\n",
        "model_3.compile(loss='binary_crossentropy', optimizer = optimizer, metrics=[tf.keras.metrics.BinaryAccuracy()])\n",
        "\n",
        "hstry_3 = model_3.fit(img_train_gen,epochs=10, validation_data=img_cv_gen, batch_size=8, \n",
        "          callbacks=[checkpoint, reduce_lr])"
      ],
      "execution_count": null,
      "outputs": [
        {
          "output_type": "stream",
          "name": "stdout",
          "text": [
            "Epoch 1/10\n",
            "57/57 [==============================] - 30s 490ms/step - loss: 0.6635 - binary_accuracy: 0.9131 - val_loss: 0.2824 - val_binary_accuracy: 0.9245\n",
            "\n",
            "Epoch 00001: val_binary_accuracy improved from -inf to 0.92449, saving model to /content/gdrive/MyDrive/cs2/data/model3/img_only/model3_img_only.hdf5\n",
            "Epoch 2/10\n",
            "57/57 [==============================] - 27s 478ms/step - loss: 0.4529 - binary_accuracy: 0.8966 - val_loss: 0.2970 - val_binary_accuracy: 0.9245\n",
            "\n",
            "Epoch 00002: val_binary_accuracy did not improve from 0.92449\n",
            "Epoch 3/10\n",
            "57/57 [==============================] - 27s 473ms/step - loss: 0.4053 - binary_accuracy: 0.9065 - val_loss: 0.3060 - val_binary_accuracy: 0.9245\n",
            "\n",
            "Epoch 00003: val_binary_accuracy did not improve from 0.92449\n",
            "Epoch 4/10\n",
            "57/57 [==============================] - 27s 469ms/step - loss: 0.3247 - binary_accuracy: 0.9164 - val_loss: 0.2778 - val_binary_accuracy: 0.9245\n",
            "\n",
            "Epoch 00004: val_binary_accuracy did not improve from 0.92449\n",
            "Epoch 5/10\n",
            "57/57 [==============================] - 27s 475ms/step - loss: 0.2926 - binary_accuracy: 0.9208 - val_loss: 0.2752 - val_binary_accuracy: 0.9224\n",
            "\n",
            "Epoch 00005: val_binary_accuracy did not improve from 0.92449\n",
            "Epoch 6/10\n",
            "57/57 [==============================] - 26s 465ms/step - loss: 0.2913 - binary_accuracy: 0.9208 - val_loss: 0.2472 - val_binary_accuracy: 0.9245\n",
            "\n",
            "Epoch 00006: val_binary_accuracy did not improve from 0.92449\n",
            "Epoch 7/10\n",
            "57/57 [==============================] - 26s 465ms/step - loss: 0.2812 - binary_accuracy: 0.9164 - val_loss: 0.2535 - val_binary_accuracy: 0.9265\n",
            "\n",
            "Epoch 00007: val_binary_accuracy improved from 0.92449 to 0.92653, saving model to /content/gdrive/MyDrive/cs2/data/model3/img_only/model3_img_only.hdf5\n",
            "Epoch 8/10\n",
            "57/57 [==============================] - 28s 496ms/step - loss: 0.2629 - binary_accuracy: 0.9274 - val_loss: 0.2480 - val_binary_accuracy: 0.9224\n",
            "\n",
            "Epoch 00008: val_binary_accuracy did not improve from 0.92653\n",
            "Epoch 9/10\n",
            "57/57 [==============================] - 27s 478ms/step - loss: 0.2673 - binary_accuracy: 0.9252 - val_loss: 0.2491 - val_binary_accuracy: 0.9204\n",
            "\n",
            "Epoch 00009: val_binary_accuracy did not improve from 0.92653\n",
            "Epoch 10/10\n",
            "57/57 [==============================] - 26s 466ms/step - loss: 0.2490 - binary_accuracy: 0.9241 - val_loss: 0.2549 - val_binary_accuracy: 0.9245\n",
            "\n",
            "Epoch 00010: val_binary_accuracy did not improve from 0.92653\n"
          ]
        }
      ]
    },
    {
      "cell_type": "code",
      "metadata": {
        "colab": {
          "base_uri": "https://localhost:8080/"
        },
        "id": "NNUzDfa7Dq9V",
        "outputId": "38d6769d-c2f1-42c1-e563-68aab5b063b7"
      },
      "source": [
        "score = model_3.evaluate(img_cv_gen, verbose=1, batch_size=64)"
      ],
      "execution_count": null,
      "outputs": [
        {
          "output_type": "stream",
          "name": "stdout",
          "text": [
            "31/31 [==============================] - 9s 289ms/step - loss: 0.2599 - binary_accuracy: 0.9245\n"
          ]
        }
      ]
    },
    {
      "cell_type": "code",
      "metadata": {
        "colab": {
          "base_uri": "https://localhost:8080/"
        },
        "id": "DeuwANO_Dq9W",
        "outputId": "ea693ae1-41c8-49b4-fe42-e0350f5bbf7b"
      },
      "source": [
        "y_pred_0 = model_3.predict(img_cv_gen, batch_size=64)\n",
        "preds_0 = (model_3.predict(img_cv_gen)>0.5).astype(\"int32\")\n",
        "metrics(cv['Condition'], preds_0)"
      ],
      "execution_count": null,
      "outputs": [
        {
          "output_type": "stream",
          "name": "stdout",
          "text": [
            "Recall micro      :  0.9183673469387755\n",
            "Precision micro   :  0.9183673469387755\n",
            "Fl score micro    :  0.9183673469387755\n"
          ]
        }
      ]
    },
    {
      "cell_type": "markdown",
      "metadata": {
        "id": "ZKqE6vxeSz7o"
      },
      "source": [
        "**OBSERVATION**\n",
        "\n",
        "1. having only that class which is damage, as it is only we have predict the details about."
      ]
    },
    {
      "cell_type": "code",
      "metadata": {
        "id": "roMJGNNPDq9W"
      },
      "source": [
        "test_condition_model_3 = test_pred_cond(model_3, img_test_gen, test_data_f)\n",
        "test_condition_model_3.to_csv('/content/gdrive/MyDrive/cs2/data/model3/img_only/test_condition_model_3.csv')"
      ],
      "execution_count": null,
      "outputs": []
    },
    {
      "cell_type": "code",
      "metadata": {
        "colab": {
          "base_uri": "https://localhost:8080/",
          "height": 350
        },
        "id": "Hzmqd2_HDq9X",
        "outputId": "d0dc537d-4091-4746-ff92-607985d6b2e7"
      },
      "source": [
        "#import matplotlib.pyplot as plt\n",
        "\n",
        "def plot_los():\n",
        "  fig = plt.figure(figsize=(15, 5)).patch.set_facecolor('silver')\n",
        "  plt.subplot(121)\n",
        "\n",
        "  plt.plot(hstry_3.history['binary_accuracy'])\n",
        "  plt.plot(hstry_3.history['val_binary_accuracy'])\n",
        "  plt.title('model binary accuracy')\n",
        "  plt.ylabel('accuracy')\n",
        "  plt.xlabel('epoch')\n",
        "  plt.legend(['train','test'], loc='upper left')\n",
        "  \n",
        "  plt.subplot(122)\n",
        "  plt.plot(hstry_3.history['loss'])\n",
        "  plt.plot(hstry_3.history['val_loss'])\n",
        "\n",
        "  plt.title('model binary loss')\n",
        "  plt.ylabel('loss')\n",
        "  plt.xlabel('epoch')\n",
        "  plt.legend(['train','test'], loc='upper left')\n",
        "  plt.show()\n",
        "\n",
        "plot_los()"
      ],
      "execution_count": null,
      "outputs": [
        {
          "output_type": "display_data",
          "data": {
            "image/png": "[encoded data removed]",
            "text/plain": [
              "<Figure size 1080x360 with 2 Axes>"
            ]
          },
          "metadata": {}
        }
      ]
    },
    {
      "cell_type": "markdown",
      "metadata": {
        "id": "nfe6FdM6S7aE"
      },
      "source": [
        "**OBSERVATION**\n",
        "\n",
        "1. from the loss curve, initially in epoch loss curve training loss is higher than validation loss that means underftting, which is quite evident as it is starting stage, but at epoch 9, validation loss (here test loss) is more or less equal to training loss indicates model as it is the balance we are looking for, after epoch 9 it may start overfitting.\n",
        "\n",
        "2. in binary accuracy plot training accuracy is increasing, test loss have hapazard movement, may be because whatever model learing not able to apply in that epoch, more epoch require to have definate say, moreover at epoch 9, we see balance train and test accuracy.\n",
        "\n"
      ]
    },
    {
      "cell_type": "code",
      "metadata": {
        "id": "n6NS7-w4Dq9Y"
      },
      "source": [
        "model_3.save('/content/gdrive/MyDrive/cs2/data/model3/model3_deepl.h5')"
      ],
      "execution_count": null,
      "outputs": []
    },
    {
      "cell_type": "markdown",
      "metadata": {
        "id": "dSWs-xocGPM6"
      },
      "source": [
        "##transfer learning "
      ]
    },
    {
      "cell_type": "code",
      "metadata": {
        "colab": {
          "base_uri": "https://localhost:8080/"
        },
        "id": "jv1MC1KkGPM7",
        "outputId": "1a70036d-a7a5-4d97-fec3-370ca1572c57"
      },
      "source": [
        "from tensorflow.keras.callbacks import *\n",
        "\n",
        "filepath = '/content/gdrive/MyDrive/cs2/data/model3/transfer_lrng/model3_transfer.hdf5'\n",
        "checkpoint = ModelCheckpoint(filepath=filepath, monitor='val_binary_accuracy', verbose=1,save_best_only=True, mode='auto', save_freq='epoch')\n",
        "reduce_lr = ReduceLROnPlateau(monitor='val_loss', factor=0.3, patience=3, min_lr=0.000001)\n",
        "\n",
        "optimizer = tf.keras.optimizers.Adam(learning_rate=0.001, beta_1=0.9, beta_2=0.999, epsilon=1e-07)\n",
        "model_3_transfer_lrng.compile(loss='binary_crossentropy', optimizer = optimizer, metrics=[tf.keras.metrics.BinaryAccuracy()])\n",
        "\n",
        "hstry_3_transfer_lrng = model_3_transfer_lrng.fit(img_train_gen,epochs=10, validation_data=img_cv_gen, batch_size=16, \n",
        "          callbacks=[checkpoint, reduce_lr])"
      ],
      "execution_count": null,
      "outputs": [
        {
          "output_type": "stream",
          "name": "stdout",
          "text": [
            "Epoch 1/10\n",
            "57/57 [==============================] - 29s 477ms/step - loss: 5.3835 - binary_accuracy: 0.6433 - val_loss: 2.6366 - val_binary_accuracy: 0.8266\n",
            "\n",
            "Epoch 00001: val_binary_accuracy improved from -inf to 0.82659, saving model to /content/gdrive/MyDrive/cs2/data/model3/transfer_lrng/model3_transfer.hdf5\n",
            "Epoch 2/10\n",
            "57/57 [==============================] - 27s 476ms/step - loss: 3.5558 - binary_accuracy: 0.7663 - val_loss: 1.5945 - val_binary_accuracy: 0.8950\n",
            "\n",
            "Epoch 00002: val_binary_accuracy improved from 0.82659 to 0.89503, saving model to /content/gdrive/MyDrive/cs2/data/model3/transfer_lrng/model3_transfer.hdf5\n",
            "Epoch 3/10\n",
            "57/57 [==============================] - 27s 478ms/step - loss: 2.5781 - binary_accuracy: 0.8307 - val_loss: 1.3563 - val_binary_accuracy: 0.9112\n",
            "\n",
            "Epoch 00003: val_binary_accuracy improved from 0.89503 to 0.91122, saving model to /content/gdrive/MyDrive/cs2/data/model3/transfer_lrng/model3_transfer.hdf5\n",
            "Epoch 4/10\n",
            "57/57 [==============================] - 27s 480ms/step - loss: 2.0922 - binary_accuracy: 0.8627 - val_loss: 1.2257 - val_binary_accuracy: 0.9196\n",
            "\n",
            "Epoch 00004: val_binary_accuracy improved from 0.91122 to 0.91958, saving model to /content/gdrive/MyDrive/cs2/data/model3/transfer_lrng/model3_transfer.hdf5\n",
            "Epoch 5/10\n",
            "57/57 [==============================] - 27s 478ms/step - loss: 1.8239 - binary_accuracy: 0.8803 - val_loss: 1.1569 - val_binary_accuracy: 0.9241\n",
            "\n",
            "Epoch 00005: val_binary_accuracy improved from 0.91958 to 0.92411, saving model to /content/gdrive/MyDrive/cs2/data/model3/transfer_lrng/model3_transfer.hdf5\n",
            "Epoch 6/10\n",
            "57/57 [==============================] - 27s 481ms/step - loss: 1.5610 - binary_accuracy: 0.8977 - val_loss: 1.1515 - val_binary_accuracy: 0.9245\n",
            "\n",
            "Epoch 00006: val_binary_accuracy improved from 0.92411 to 0.92449, saving model to /content/gdrive/MyDrive/cs2/data/model3/transfer_lrng/model3_transfer.hdf5\n",
            "Epoch 7/10\n",
            "57/57 [==============================] - 27s 470ms/step - loss: 1.4445 - binary_accuracy: 0.9052 - val_loss: 1.1515 - val_binary_accuracy: 0.9245\n",
            "\n",
            "Epoch 00007: val_binary_accuracy did not improve from 0.92449\n",
            "Epoch 8/10\n",
            "57/57 [==============================] - 26s 457ms/step - loss: 1.3565 - binary_accuracy: 0.9111 - val_loss: 1.1515 - val_binary_accuracy: 0.9245\n",
            "\n",
            "Epoch 00008: val_binary_accuracy did not improve from 0.92449\n",
            "Epoch 9/10\n",
            "57/57 [==============================] - 26s 456ms/step - loss: 1.2961 - binary_accuracy: 0.9150 - val_loss: 1.1515 - val_binary_accuracy: 0.9245\n",
            "\n",
            "Epoch 00009: val_binary_accuracy did not improve from 0.92449\n",
            "Epoch 10/10\n",
            "57/57 [==============================] - 27s 475ms/step - loss: 1.2631 - binary_accuracy: 0.9172 - val_loss: 1.1515 - val_binary_accuracy: 0.9245\n",
            "\n",
            "Epoch 00010: val_binary_accuracy did not improve from 0.92449\n"
          ]
        }
      ]
    },
    {
      "cell_type": "code",
      "metadata": {
        "colab": {
          "base_uri": "https://localhost:8080/",
          "height": 350
        },
        "id": "hpNMexVsGPM8",
        "outputId": "afb88b1f-f343-4cf0-fc4d-3a72682e7b8f"
      },
      "source": [
        "#import matplotlib.pyplot as plt\n",
        "\n",
        "def plot_los():\n",
        "  fig = plt.figure(figsize=(15, 5)).patch.set_facecolor('silver')\n",
        "  plt.subplot(121)\n",
        "\n",
        "  plt.plot(hstry_3_transfer_lrng.history['binary_accuracy'])\n",
        "  plt.plot(hstry_3_transfer_lrng.history['val_binary_accuracy'])\n",
        "  plt.title('model binary accuracy')\n",
        "  plt.ylabel('accuracy')\n",
        "  plt.xlabel('epoch')\n",
        "  plt.legend(['train','test'], loc='upper left')\n",
        "  \n",
        "  plt.subplot(122)\n",
        "  plt.plot(hstry_3_transfer_lrng.history['loss'])\n",
        "  plt.plot(hstry_3_transfer_lrng.history['val_loss'])\n",
        "\n",
        "  plt.title('model binary loss')\n",
        "  plt.ylabel('loss')\n",
        "  plt.xlabel('epoch')\n",
        "  plt.legend(['train','test'], loc='upper left')\n",
        "  plt.show()\n",
        "\n",
        "plot_los()"
      ],
      "execution_count": null,
      "outputs": [
        {
          "output_type": "display_data",
          "data": {
            "image/png": "[encoded data removed]",
            "text/plain": [
              "<Figure size 1080x360 with 2 Axes>"
            ]
          },
          "metadata": {}
        }
      ]
    },
    {
      "cell_type": "markdown",
      "metadata": {
        "id": "yHKCQ8WdT_Fc"
      },
      "source": [
        "**OBSERVATION**\n",
        "\n",
        "1. from the loss curve, initially in epoch loss curve training loss is higher than validation loss that means underftting, which is quite evident as it is starting stage, but after epoch 9, validation loss will be converging with  training loss indicates at epoch 9 or after as it is the balance we are looking for.\n",
        "\n",
        "2. in binary accuracy plot training accuracy is increasing, test accuracy is also increasing whatever model is learning able to apply well on test data, it can be more iterated for more convergence."
      ]
    },
    {
      "cell_type": "code",
      "metadata": {
        "id": "VIkYDUYfGPM9"
      },
      "source": [
        "model_3_transfer_lrng.save('/content/gdrive/MyDrive/cs2/data/model3/transfer_lrng/model3_transfer_learning.h5')"
      ],
      "execution_count": null,
      "outputs": []
    },
    {
      "cell_type": "code",
      "metadata": {
        "id": "HkLJbshSGPM9"
      },
      "source": [
        "def get_embedd(model, generator, generator_1, generator_2, batch): \n",
        "    \n",
        "    '''takes input of model : vgg-19/resnet/mobilenet/custom respectively in subsequent stages,\n",
        "      generator, generator_1, generator_2 : image datagen for tain,test,cv\n",
        "      batch   :  batch size (int)\n",
        "      returns :  dataframe of train and test having transfer weights'''\n",
        "\n",
        "\n",
        "    y_pred = model.predict(generator, batch)\n",
        "    df = pd.DataFrame(y_pred)\n",
        "    test_condition_model_1_tf = test_data_f.copy()\n",
        "    test_condition_model_1_tf = pd.concat([test_condition_model_3, df], axis=1, join='inner')\n",
        "    test_condition_model_1_tf.to_csv('/content/gdrive/MyDrive/cs2/data/model3/transfer_lrng/test_model_3_transfer_learning.csv')\n",
        "\n",
        "    y_pred_tr = model.predict(generator_1, batch)\n",
        "    y_pred_cv = model.predict(generator_2, batch)\n",
        "    kd0 = pd.concat([train, cv], axis=0)\n",
        "    kd0.reset_index(inplace=True)\n",
        "    print(kd0.shape)\n",
        "    kd1 = pd.concat([pd.DataFrame(y_pred_tr), pd.DataFrame(y_pred_cv)], axis=0)\n",
        "    kd1.reset_index(inplace=True)\n",
        "    print(kd1.shape)\n",
        "    kd_ = pd.concat([kd0,kd1], axis=1)\n",
        "    kd_.to_csv('/content/gdrive/MyDrive/cs2/data/model3/transfer_lrng/train_model_3_transfer_learning.csv')\n",
        "\n",
        "    return test_condition_model_1_tf, kd_\n"
      ],
      "execution_count": null,
      "outputs": []
    },
    {
      "cell_type": "code",
      "metadata": {
        "colab": {
          "base_uri": "https://localhost:8080/"
        },
        "id": "ijDMcb8iGPM-",
        "outputId": "a50f13f0-6254-4316-ce4d-a0c396f84c39"
      },
      "source": [
        "#_,train_transfer_wt = get_embedd(model_1_transfer_lrng, img_train_gen, img_cv_gen, 16, train=True)\n",
        "test_transfer_wt, train_transfer_wt = get_embedd(model_3_transfer_lrng, img_test_gen, img_train_gen, img_cv_gen, 16)#, train=False)"
      ],
      "execution_count": null,
      "outputs": [
        {
          "output_type": "stream",
          "name": "stdout",
          "text": [
            "(1399, 26)\n",
            "(1399, 65)\n"
          ]
        }
      ]
    },
    {
      "cell_type": "markdown",
      "metadata": {
        "id": "ePDXxCD9IwtJ"
      },
      "source": [
        "#custom model"
      ]
    },
    {
      "cell_type": "code",
      "metadata": {
        "id": "bexZ4RkFIII5"
      },
      "source": [
        "#structure taken from https://www.kaggle.com/ankitachoudhury01/image-classification-and-xgboost-for-beginners\n",
        "\n",
        "def custom_model():\n",
        "  input = Input(shape=(224,224,3))\n",
        "  x = Conv2D(filters=16, kernel_size=(3,3),activation='relu')(input)\n",
        "  x = Conv2D(filters=16, kernel_size=(3,3),activation='relu')(x)\n",
        "  x = Conv2D(filters=16, kernel_size=(3,3),activation='relu')(x)\n",
        "  x = MaxPooling2D(pool_size=(2,2))(x)\n",
        "\n",
        "  x = Conv2D(filters=64, kernel_size=(3,3),activation='relu')(x)\n",
        "  x = Conv2D(filters=64, kernel_size=(3,3),activation='relu')(x)\n",
        "  x = Conv2D(filters=64, kernel_size=(3,3),activation='relu')(x)\n",
        "  x = MaxPooling2D(pool_size=(2,2))(x)\n",
        "\n",
        "  x = Conv2D(filters=128, kernel_size=(3,3),activation='relu')(x)\n",
        "  x = Conv2D(filters=128, kernel_size=(3,3),activation='relu')(x)\n",
        "  x = Conv2D(filters=128, kernel_size=(3,3),activation='relu')(x)\n",
        "  x = MaxPooling2D(pool_size=(2,2))(x)\n",
        "\n",
        "  x = Conv2D(filters=256, kernel_size=(3,3),activation='relu')(x)\n",
        "  x = Conv2D(filters=256, kernel_size=(3,3),activation='relu')(x)\n",
        "  x = Conv2D(filters=256, kernel_size=(3,3),activation='relu')(x)\n",
        "  x = MaxPooling2D(pool_size=(2,2))(x)\n",
        "\n",
        "\n",
        "  x = Conv2D(filters=512, kernel_size=(3,3),activation='relu')(x)\n",
        "  x = Conv2D(filters=512, kernel_size=(3,3),activation='relu')(x)\n",
        "  x = Conv2D(filters=512, kernel_size=(3,3),activation='relu')(x)\n",
        "  x = MaxPooling2D(pool_size=(2,2))(x)\n",
        "\n",
        "\n",
        "  x = Conv2D(filters=1024, kernel_size=(3,3),activation='relu',padding = 'same')(x)\n",
        "  x = MaxPooling2D(pool_size=(2,2), padding = \"same\")(x)\n",
        "\n",
        "\n",
        "  flat = Flatten()(x)    ### input layer\n",
        "  fc1 = Dense(216, activation='relu', kernel_initializer=tf.keras.initializers.glorot_normal(seed=0))(flat)\n",
        "  drop1 = Dropout(0.5)(fc1)\n",
        "  #fc2 = Dense(512, activation='relu', kernel_initializer=tf.keras.initializers.glorot_normal(seed=0))(drop1)\n",
        "  fc3 = Dense(128, activation='relu', kernel_initializer=tf.keras.initializers.glorot_normal(seed=0))(drop1)\n",
        "  drop2 = Dropout(0.5)(fc3)\n",
        "  fc4 = Dense(64, activation='relu', kernel_initializer=tf.keras.initializers.glorot_normal(seed=0))(drop2)\n",
        "  out = Dense(1, activation='sigmoid')(fc4)\n",
        "\n",
        "  mdl_1 = Model(inputs=[input], outputs=[out])\n",
        "  mdl_1_transfer_lrng = Model(inputs=[input], outputs=[fc4])\n",
        "  mdl_1.summary()\n",
        "  return mdl_1, mdl_1_transfer_lrng\n",
        "\n"
      ],
      "execution_count": null,
      "outputs": []
    },
    {
      "cell_type": "code",
      "metadata": {
        "colab": {
          "base_uri": "https://localhost:8080/"
        },
        "id": "xHoDcdyWNOkS",
        "outputId": "b525240a-b0d4-411f-dfab-7a8c08fdd3bb"
      },
      "source": [
        "model_4, model_4_transfer_lrng = custom_model()"
      ],
      "execution_count": null,
      "outputs": [
        {
          "output_type": "stream",
          "name": "stdout",
          "text": [
            "Model: \"model_8\"\n",
            "_________________________________________________________________\n",
            "Layer (type)                 Output Shape              Param #   \n",
            "=================================================================\n",
            "input_8 (InputLayer)         [(None, 224, 224, 3)]     0         \n",
            "_________________________________________________________________\n",
            "conv2d_16 (Conv2D)           (None, 222, 222, 16)      448       \n",
            "_________________________________________________________________\n",
            "conv2d_17 (Conv2D)           (None, 220, 220, 16)      2320      \n",
            "_________________________________________________________________\n",
            "conv2d_18 (Conv2D)           (None, 218, 218, 16)      2320      \n",
            "_________________________________________________________________\n",
            "max_pooling2d_6 (MaxPooling2 (None, 109, 109, 16)      0         \n",
            "_________________________________________________________________\n",
            "conv2d_19 (Conv2D)           (None, 107, 107, 64)      9280      \n",
            "_________________________________________________________________\n",
            "conv2d_20 (Conv2D)           (None, 105, 105, 64)      36928     \n",
            "_________________________________________________________________\n",
            "conv2d_21 (Conv2D)           (None, 103, 103, 64)      36928     \n",
            "_________________________________________________________________\n",
            "max_pooling2d_7 (MaxPooling2 (None, 51, 51, 64)        0         \n",
            "_________________________________________________________________\n",
            "conv2d_22 (Conv2D)           (None, 49, 49, 128)       73856     \n",
            "_________________________________________________________________\n",
            "conv2d_23 (Conv2D)           (None, 47, 47, 128)       147584    \n",
            "_________________________________________________________________\n",
            "conv2d_24 (Conv2D)           (None, 45, 45, 128)       147584    \n",
            "_________________________________________________________________\n",
            "max_pooling2d_8 (MaxPooling2 (None, 22, 22, 128)       0         \n",
            "_________________________________________________________________\n",
            "conv2d_25 (Conv2D)           (None, 20, 20, 256)       295168    \n",
            "_________________________________________________________________\n",
            "conv2d_26 (Conv2D)           (None, 18, 18, 256)       590080    \n",
            "_________________________________________________________________\n",
            "conv2d_27 (Conv2D)           (None, 16, 16, 256)       590080    \n",
            "_________________________________________________________________\n",
            "max_pooling2d_9 (MaxPooling2 (None, 8, 8, 256)         0         \n",
            "_________________________________________________________________\n",
            "conv2d_28 (Conv2D)           (None, 6, 6, 512)         1180160   \n",
            "_________________________________________________________________\n",
            "conv2d_29 (Conv2D)           (None, 4, 4, 512)         2359808   \n",
            "_________________________________________________________________\n",
            "conv2d_30 (Conv2D)           (None, 2, 2, 512)         2359808   \n",
            "_________________________________________________________________\n",
            "max_pooling2d_10 (MaxPooling (None, 1, 1, 512)         0         \n",
            "_________________________________________________________________\n",
            "conv2d_31 (Conv2D)           (None, 1, 1, 1024)        4719616   \n",
            "_________________________________________________________________\n",
            "max_pooling2d_11 (MaxPooling (None, 1, 1, 1024)        0         \n",
            "_________________________________________________________________\n",
            "flatten_4 (Flatten)          (None, 1024)              0         \n",
            "_________________________________________________________________\n",
            "dense_16 (Dense)             (None, 216)               221400    \n",
            "_________________________________________________________________\n",
            "dropout_8 (Dropout)          (None, 216)               0         \n",
            "_________________________________________________________________\n",
            "dense_17 (Dense)             (None, 128)               27776     \n",
            "_________________________________________________________________\n",
            "dropout_9 (Dropout)          (None, 128)               0         \n",
            "_________________________________________________________________\n",
            "dense_18 (Dense)             (None, 64)                8256      \n",
            "_________________________________________________________________\n",
            "dense_19 (Dense)             (None, 1)                 65        \n",
            "=================================================================\n",
            "Total params: 12,809,465\n",
            "Trainable params: 12,809,465\n",
            "Non-trainable params: 0\n",
            "_________________________________________________________________\n"
          ]
        }
      ]
    },
    {
      "cell_type": "code",
      "metadata": {
        "colab": {
          "base_uri": "https://localhost:8080/"
        },
        "id": "FA6c6XaaN_qx",
        "outputId": "0456e300-cff8-46c8-9dfb-62dc73515a67"
      },
      "source": [
        "from tensorflow.keras.callbacks import *\n",
        "\n",
        "filepath = '/content/gdrive/MyDrive/cs2/data/model4/img_only/model4_img_only.hdf5'\n",
        "checkpoint = ModelCheckpoint(filepath=filepath, monitor='val_binary_accuracy', verbose=1,save_best_only=True, mode='auto', save_freq='epoch')\n",
        "reduce_lr = ReduceLROnPlateau(monitor='val_loss', factor=0.3, patience=2)\n",
        "\n",
        "optimizer = tf.keras.optimizers.Adam(learning_rate=0.0001, beta_1=0.9, beta_2=0.999, epsilon=1e-07)\n",
        "model_4.compile(loss='binary_crossentropy', optimizer = optimizer, metrics=[tf.keras.metrics.BinaryAccuracy()])\n",
        "\n",
        "hstry_4 = model_4.fit(img_train_gen,epochs=10, validation_data=img_cv_gen, batch_size=8, \n",
        "          callbacks=[checkpoint, reduce_lr])"
      ],
      "execution_count": null,
      "outputs": [
        {
          "output_type": "stream",
          "name": "stdout",
          "text": [
            "Epoch 1/10\n",
            "57/57 [==============================] - 40s 592ms/step - loss: 0.4379 - binary_accuracy: 0.9219 - val_loss: 0.3279 - val_binary_accuracy: 0.9245\n",
            "\n",
            "Epoch 00001: val_binary_accuracy improved from -inf to 0.92449, saving model to /content/gdrive/MyDrive/cs2/data/model4/img_only/model4_img_only.hdf5\n",
            "Epoch 2/10\n",
            "57/57 [==============================] - 30s 517ms/step - loss: 0.2932 - binary_accuracy: 0.9318 - val_loss: 0.2799 - val_binary_accuracy: 0.9245\n",
            "\n",
            "Epoch 00002: val_binary_accuracy did not improve from 0.92449\n",
            "Epoch 3/10\n",
            "57/57 [==============================] - 29s 510ms/step - loss: 0.3283 - binary_accuracy: 0.9318 - val_loss: 0.3705 - val_binary_accuracy: 0.9245\n",
            "\n",
            "Epoch 00003: val_binary_accuracy did not improve from 0.92449\n",
            "Epoch 4/10\n",
            "57/57 [==============================] - 29s 510ms/step - loss: 0.2830 - binary_accuracy: 0.9318 - val_loss: 0.2813 - val_binary_accuracy: 0.9245\n",
            "\n",
            "Epoch 00004: val_binary_accuracy did not improve from 0.92449\n",
            "Epoch 5/10\n",
            "57/57 [==============================] - 29s 512ms/step - loss: 0.2801 - binary_accuracy: 0.9318 - val_loss: 0.2709 - val_binary_accuracy: 0.9245\n",
            "\n",
            "Epoch 00005: val_binary_accuracy did not improve from 0.92449\n",
            "Epoch 6/10\n",
            "57/57 [==============================] - 29s 503ms/step - loss: 0.2703 - binary_accuracy: 0.9318 - val_loss: 0.2683 - val_binary_accuracy: 0.9245\n",
            "\n",
            "Epoch 00006: val_binary_accuracy did not improve from 0.92449\n",
            "Epoch 7/10\n",
            "57/57 [==============================] - 29s 507ms/step - loss: 0.2763 - binary_accuracy: 0.9318 - val_loss: 0.2710 - val_binary_accuracy: 0.9245\n",
            "\n",
            "Epoch 00007: val_binary_accuracy did not improve from 0.92449\n",
            "Epoch 8/10\n",
            "57/57 [==============================] - 29s 500ms/step - loss: 0.2707 - binary_accuracy: 0.9318 - val_loss: 0.2672 - val_binary_accuracy: 0.9245\n",
            "\n",
            "Epoch 00008: val_binary_accuracy did not improve from 0.92449\n",
            "Epoch 9/10\n",
            "57/57 [==============================] - 29s 505ms/step - loss: 0.2667 - binary_accuracy: 0.9318 - val_loss: 0.2706 - val_binary_accuracy: 0.9245\n",
            "\n",
            "Epoch 00009: val_binary_accuracy did not improve from 0.92449\n",
            "Epoch 10/10\n",
            "57/57 [==============================] - 29s 502ms/step - loss: 0.2705 - binary_accuracy: 0.9318 - val_loss: 0.2746 - val_binary_accuracy: 0.9245\n",
            "\n",
            "Epoch 00010: val_binary_accuracy did not improve from 0.92449\n"
          ]
        }
      ]
    },
    {
      "cell_type": "code",
      "metadata": {
        "colab": {
          "base_uri": "https://localhost:8080/"
        },
        "id": "vvjgAQNHN_rB",
        "outputId": "2da576e1-fa88-46b4-ed11-be37c87407aa"
      },
      "source": [
        "score = model_4.evaluate(img_cv_gen, verbose=1, batch_size=64)"
      ],
      "execution_count": null,
      "outputs": [
        {
          "output_type": "stream",
          "name": "stdout",
          "text": [
            "31/31 [==============================] - 9s 293ms/step - loss: 0.2753 - binary_accuracy: 0.9245\n"
          ]
        }
      ]
    },
    {
      "cell_type": "code",
      "metadata": {
        "colab": {
          "base_uri": "https://localhost:8080/"
        },
        "id": "atzkE9XjN_rC",
        "outputId": "2af7617e-4967-4d62-87f4-62f5aa78d2dc"
      },
      "source": [
        "y_pred_0 = model_4.predict(img_cv_gen, batch_size=64)\n",
        "preds_0 = (model_4.predict(img_cv_gen)>0.5).astype(\"int32\")\n",
        "metrics(cv['Condition'], preds_0)"
      ],
      "execution_count": null,
      "outputs": [
        {
          "output_type": "stream",
          "name": "stdout",
          "text": [
            "Recall micro      :  0.9244897959183673\n",
            "Precision micro   :  0.9244897959183673\n",
            "Fl score micro    :  0.9244897959183674\n"
          ]
        }
      ]
    },
    {
      "cell_type": "code",
      "metadata": {
        "id": "symzp3fuN_rC"
      },
      "source": [
        "test_condition_model_4 = test_pred_cond(model_4, img_test_gen, test_data_f)\n",
        "test_condition_model_4.to_csv('/content/gdrive/MyDrive/cs2/data/model4/img_only/test_condition_model_4.csv')"
      ],
      "execution_count": null,
      "outputs": []
    },
    {
      "cell_type": "code",
      "metadata": {
        "colab": {
          "base_uri": "https://localhost:8080/",
          "height": 350
        },
        "id": "580_g8qeN_rC",
        "outputId": "43d0aa88-cb21-4be0-c5da-35f7f74401c1"
      },
      "source": [
        "#import matplotlib.pyplot as plt\n",
        "\n",
        "def plot_los():\n",
        "  fig = plt.figure(figsize=(15, 5)).patch.set_facecolor('silver')\n",
        "  plt.subplot(121)\n",
        "\n",
        "  plt.plot(hstry_4.history['binary_accuracy'])\n",
        "  plt.plot(hstry_4.history['val_binary_accuracy'])\n",
        "  plt.title('model binary accuracy')\n",
        "  plt.ylabel('accuracy')\n",
        "  plt.xlabel('epoch')\n",
        "  plt.legend(['train','test'], loc='upper left')\n",
        "  \n",
        "  plt.subplot(122)\n",
        "  plt.plot(hstry_4.history['loss'])\n",
        "  plt.plot(hstry_4.history['val_loss'])\n",
        "\n",
        "  plt.title('model binary loss')\n",
        "  plt.ylabel('loss')\n",
        "  plt.xlabel('epoch')\n",
        "  plt.legend(['train','test'], loc='upper left')\n",
        "  plt.show()\n",
        "\n",
        "plot_los()"
      ],
      "execution_count": null,
      "outputs": [
        {
          "output_type": "display_data",
          "data": {
            "image/png": "[encoded data removed]",
            "text/plain": [
              "<Figure size 1080x360 with 2 Axes>"
            ]
          },
          "metadata": {}
        }
      ]
    },
    {
      "cell_type": "markdown",
      "metadata": {
        "id": "UcXWLLlVVWiO"
      },
      "source": [
        "**OBSERVATION**\n",
        "\n",
        "1. from the loss curve, initially in epoch loss curve training loss is higher than validation loss that means underftting, which is quite evident as it is starting stage, but at epoch 1-3 and after 7, validation loss (here test loss) is more than training loss indicates model is overfitting, at epoch 3 or 7, strikes the balance we are looking for.\n",
        "\n",
        "2. in binary accuracy plot training accuracy is increasing but test accuracy is constant because whaterever model learns it apllies on test set there is no new to learn from test data perspective, due to test set is limited with similar nature of condition (more damage), and repeatative similar images (i.e less variation in image data), this nature of graph occurs. \n",
        "\n",
        "3. try to overcome above limitation (point 2) with oversampling of inferior class, or using cars dataset, in version 2.0 of this case study."
      ]
    },
    {
      "cell_type": "code",
      "metadata": {
        "id": "2Oqsb_32N_rD"
      },
      "source": [
        "model_4.save('/content/gdrive/MyDrive/cs2/data/model4/model4_deepl.h5')"
      ],
      "execution_count": null,
      "outputs": []
    },
    {
      "cell_type": "markdown",
      "metadata": {
        "id": "7SKfdouUP-NJ"
      },
      "source": [
        "##transfer learning "
      ]
    },
    {
      "cell_type": "code",
      "metadata": {
        "colab": {
          "base_uri": "https://localhost:8080/"
        },
        "id": "dthptAm-P-NK",
        "outputId": "4f3bee06-a3d7-4e2d-8add-d993bd2ed4f4"
      },
      "source": [
        "from tensorflow.keras.callbacks import *\n",
        "\n",
        "filepath = '/content/gdrive/MyDrive/cs2/data/model4/transfer_lrng/model4_transfer.hdf5'\n",
        "checkpoint = ModelCheckpoint(filepath=filepath, monitor='val_binary_accuracy', verbose=1,save_best_only=True, mode='auto', save_freq='epoch')\n",
        "reduce_lr = ReduceLROnPlateau(monitor='val_loss', factor=0.3, patience=3, min_lr=0.000001)\n",
        "\n",
        "optimizer = tf.keras.optimizers.Adam(learning_rate=0.001, beta_1=0.9, beta_2=0.999, epsilon=1e-07)\n",
        "model_4_transfer_lrng.compile(loss='binary_crossentropy', optimizer = optimizer, metrics=[tf.keras.metrics.BinaryAccuracy()])\n",
        "\n",
        "hstry_4_transfer_lrng = model_4_transfer_lrng.fit(img_train_gen,epochs=10, validation_data=img_cv_gen, batch_size=16, \n",
        "          callbacks=[checkpoint, reduce_lr])"
      ],
      "execution_count": null,
      "outputs": [
        {
          "output_type": "stream",
          "name": "stdout",
          "text": [
            "Epoch 1/10\n",
            "57/57 [==============================] - 32s 537ms/step - loss: 5.7883 - binary_accuracy: 0.6207 - val_loss: 5.0431 - val_binary_accuracy: 0.6724\n",
            "\n",
            "Epoch 00001: val_binary_accuracy improved from -inf to 0.67245, saving model to /content/gdrive/MyDrive/cs2/data/model4/transfer_lrng/model4_transfer.hdf5\n",
            "Epoch 2/10\n",
            "57/57 [==============================] - 30s 530ms/step - loss: 5.6638 - binary_accuracy: 0.6323 - val_loss: 5.0426 - val_binary_accuracy: 0.6725\n",
            "\n",
            "Epoch 00002: val_binary_accuracy improved from 0.67245 to 0.67248, saving model to /content/gdrive/MyDrive/cs2/data/model4/transfer_lrng/model4_transfer.hdf5\n",
            "Epoch 3/10\n",
            "57/57 [==============================] - 30s 534ms/step - loss: 5.6365 - binary_accuracy: 0.6341 - val_loss: 5.0421 - val_binary_accuracy: 0.6725\n",
            "\n",
            "Epoch 00003: val_binary_accuracy improved from 0.67248 to 0.67251, saving model to /content/gdrive/MyDrive/cs2/data/model4/transfer_lrng/model4_transfer.hdf5\n",
            "Epoch 4/10\n",
            "57/57 [==============================] - 30s 530ms/step - loss: 5.6579 - binary_accuracy: 0.6327 - val_loss: 5.0426 - val_binary_accuracy: 0.6725\n",
            "\n",
            "Epoch 00004: val_binary_accuracy did not improve from 0.67251\n",
            "Epoch 5/10\n",
            "57/57 [==============================] - 30s 521ms/step - loss: 5.6217 - binary_accuracy: 0.6350 - val_loss: 5.0426 - val_binary_accuracy: 0.6725\n",
            "\n",
            "Epoch 00005: val_binary_accuracy did not improve from 0.67251\n",
            "Epoch 6/10\n",
            "57/57 [==============================] - 29s 518ms/step - loss: 5.6161 - binary_accuracy: 0.6354 - val_loss: 5.0426 - val_binary_accuracy: 0.6725\n",
            "\n",
            "Epoch 00006: val_binary_accuracy did not improve from 0.67251\n",
            "Epoch 7/10\n",
            "57/57 [==============================] - 30s 523ms/step - loss: 5.6224 - binary_accuracy: 0.6350 - val_loss: 5.0431 - val_binary_accuracy: 0.6724\n",
            "\n",
            "Epoch 00007: val_binary_accuracy did not improve from 0.67251\n",
            "Epoch 8/10\n",
            "57/57 [==============================] - 30s 520ms/step - loss: 5.6449 - binary_accuracy: 0.6335 - val_loss: 5.0431 - val_binary_accuracy: 0.6724\n",
            "\n",
            "Epoch 00008: val_binary_accuracy did not improve from 0.67251\n",
            "Epoch 9/10\n",
            "57/57 [==============================] - 30s 522ms/step - loss: 5.6611 - binary_accuracy: 0.6325 - val_loss: 5.0416 - val_binary_accuracy: 0.6725\n",
            "\n",
            "Epoch 00009: val_binary_accuracy improved from 0.67251 to 0.67254, saving model to /content/gdrive/MyDrive/cs2/data/model4/transfer_lrng/model4_transfer.hdf5\n",
            "Epoch 10/10\n",
            "57/57 [==============================] - 30s 523ms/step - loss: 5.6837 - binary_accuracy: 0.6310 - val_loss: 5.0421 - val_binary_accuracy: 0.6725\n",
            "\n",
            "Epoch 00010: val_binary_accuracy did not improve from 0.67254\n"
          ]
        }
      ]
    },
    {
      "cell_type": "code",
      "metadata": {
        "colab": {
          "base_uri": "https://localhost:8080/",
          "height": 350
        },
        "id": "AyUA_DUQP-NL",
        "outputId": "b06bfcab-36c9-45ad-8bb6-794b47b01bab"
      },
      "source": [
        "#import matplotlib.pyplot as plt\n",
        "\n",
        "def plot_los():\n",
        "  fig = plt.figure(figsize=(15, 5)).patch.set_facecolor('silver')\n",
        "  plt.subplot(121)\n",
        "\n",
        "  plt.plot(hstry_4_transfer_lrng.history['binary_accuracy'])\n",
        "  plt.plot(hstry_4_transfer_lrng.history['val_binary_accuracy'])\n",
        "  plt.title('model binary accuracy')\n",
        "  plt.ylabel('accuracy')\n",
        "  plt.xlabel('epoch')\n",
        "  plt.legend(['train','test'], loc='upper left')\n",
        "  \n",
        "  plt.subplot(122)\n",
        "  plt.plot(hstry_4_transfer_lrng.history['loss'])\n",
        "  plt.plot(hstry_4_transfer_lrng.history['val_loss'])\n",
        "\n",
        "  plt.title('model binary loss')\n",
        "  plt.ylabel('loss')\n",
        "  plt.xlabel('epoch')\n",
        "  plt.legend(['train','test'], loc='upper left')\n",
        "  plt.show()\n",
        "\n",
        "plot_los()"
      ],
      "execution_count": null,
      "outputs": [
        {
          "output_type": "display_data",
          "data": {
            "image/png": "[encoded data removed]",
            "text/plain": [
              "<Figure size 1080x360 with 2 Axes>"
            ]
          },
          "metadata": {}
        }
      ]
    },
    {
      "cell_type": "markdown",
      "metadata": {
        "id": "1C6PewHeWFDh"
      },
      "source": [
        "**OBSERVATION**\n",
        "\n",
        "1. from the loss curve, initially in epoch loss curve training loss is higher than validation loss that means underftting, which is quite evident as it is starting stage, that to is too large in quantam, no sign of convergence, underfit because less layers in model (less depth) in custom architecture as compare to other models (transfer learning models) therefore not able to learn the appropriate features , it has to be ignored while considering.\n",
        "\n"
      ]
    },
    {
      "cell_type": "code",
      "metadata": {
        "id": "m5D6bQ2nP-NL"
      },
      "source": [
        "model_4_transfer_lrng.save('/content/gdrive/MyDrive/cs2/data/model4/transfer_lrng/model4_transfer_learning.h5')"
      ],
      "execution_count": null,
      "outputs": []
    },
    {
      "cell_type": "code",
      "metadata": {
        "id": "ewA6Lml0P-NL"
      },
      "source": [
        "def get_embedd(model, generator, generator_1, generator_2, batch): \n",
        "\n",
        "    '''takes input of model : vgg-19/resnet/mobilenet/custom respectively in subsequent stages,\n",
        "      generator, generator_1, generator_2 : image datagen for tain,test,cv\n",
        "      batch   :  batch size (int)\n",
        "      returns :  dataframe of train and test having transfer weights'''\n",
        " \n",
        "    y_pred = model.predict(generator, batch)\n",
        "    df = pd.DataFrame(y_pred)\n",
        "    test_condition_model_1_tf = test_data_f.copy()\n",
        "    test_condition_model_1_tf = pd.concat([test_condition_model_3, df], axis=1, join='inner')\n",
        "    test_condition_model_1_tf.to_csv('/content/gdrive/MyDrive/cs2/data/model4/transfer_lrng/test_model_4_transfer_learning.csv')\n",
        " \n",
        "    y_pred_tr = model.predict(generator_1, batch)\n",
        "    y_pred_cv = model.predict(generator_2, batch)\n",
        "    kd0 = pd.concat([train, cv], axis=0)\n",
        "    kd0.reset_index(inplace=True)\n",
        "    print(kd0.shape)\n",
        "    kd1 = pd.concat([pd.DataFrame(y_pred_tr), pd.DataFrame(y_pred_cv)], axis=0)\n",
        "    kd1.reset_index(inplace=True)\n",
        "    print(kd1.shape)\n",
        "    kd_ = pd.concat([kd0,kd1], axis=1)\n",
        "    kd_.to_csv('/content/gdrive/MyDrive/cs2/data/model4/transfer_lrng/train_model_4_transfer_learning.csv')\n",
        "\n",
        "    return test_condition_model_1_tf, kd_\n"
      ],
      "execution_count": null,
      "outputs": []
    },
    {
      "cell_type": "code",
      "metadata": {
        "colab": {
          "base_uri": "https://localhost:8080/"
        },
        "id": "XdNihDEYP-NM",
        "outputId": "8ab7fc71-9067-466d-9c0d-1e5fa354f395"
      },
      "source": [
        "#_,train_transfer_wt = get_embedd(model_1_transfer_lrng, img_train_gen, img_cv_gen, 16, train=True)\n",
        "test_transfer_wt, train_transfer_wt = get_embedd(model_4_transfer_lrng, img_test_gen, img_train_gen, img_cv_gen, 16)"
      ],
      "execution_count": null,
      "outputs": [
        {
          "output_type": "stream",
          "name": "stdout",
          "text": [
            "(1399, 26)\n",
            "(1399, 65)\n"
          ]
        }
      ]
    }
  ]
}